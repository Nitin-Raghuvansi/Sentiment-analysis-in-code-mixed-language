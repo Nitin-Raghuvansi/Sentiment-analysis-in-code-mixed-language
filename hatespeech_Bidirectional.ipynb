{
  "nbformat": 4,
  "nbformat_minor": 0,
  "metadata": {
    "colab": {
      "name": "hatespeech_Bidirectional.ipynb",
      "provenance": [],
      "toc_visible": true
    },
    "kernelspec": {
      "name": "python3",
      "display_name": "Python 3"
    },
    "language_info": {
      "name": "python"
    },
    "accelerator": "GPU"
  },
  "cells": [
    {
      "cell_type": "code",
      "metadata": {
        "id": "HdVgKDC0nMEx"
      },
      "source": [
        ""
      ],
      "execution_count": null,
      "outputs": []
    },
    {
      "cell_type": "markdown",
      "metadata": {
        "id": "KMVbWpuq0ols"
      },
      "source": [
        "# Datasets collection \n",
        "## Main dataset\n",
        "- Semval dataset\n",
        "\n",
        "## Data for corpus\n",
        "1.  Tweeter Corpus POS: https://www.aclweb.org/anthology/W18-3503/\n",
        "2.  https://github.com/sakshigupta93/normalisation-dataset/blob/master/dataset_final.txt\n",
        "3. https://github.com/drimpossible/Sub-word-LSTM/blob/master/Data/IIITH_Codemixed.txt (https://www.aclweb.org/anthology/C16-1234.pdf)\n",
        "4. https://www.aclweb.org/anthology/W14-3914.pdf(check this out)"
      ]
    },
    {
      "cell_type": "code",
      "metadata": {
        "id": "Vapw3mvKmSWG"
      },
      "source": [
        "import pandas as pd\n",
        "import numpy as np"
      ],
      "execution_count": null,
      "outputs": []
    },
    {
      "cell_type": "code",
      "metadata": {
        "id": "5v0qP6bLaplx"
      },
      "source": [
        "#convert to sentances for corpus 1\n",
        "\n",
        "def read_POS_data(idGen,in_file):\n",
        "    data = []\n",
        "    with open(in_file) as f:\n",
        "        words = \" \"\n",
        "        cnt = 0\n",
        "        for line in f.readlines():\n",
        "            # print(line)\n",
        "            sp = line.strip().split('\\t')\n",
        "            if len(sp)<3:\n",
        "              vc = {\"id\":idGen+str(cnt),\"tweet\":words}\n",
        "              data.append(vc)\n",
        "              words = \"\"\n",
        "              cnt += 1\n",
        "            else:\n",
        "              words = words + sp[0] + \" \"\n",
        "        print(cnt)\n",
        "    return data \n",
        "\n",
        "def read_IIITH_DATA(in_file):\n",
        "    data = []\n",
        "    with open(in_file) as f:\n",
        "        words = \" \"\n",
        "        cnt = 0\n",
        "        for line in f.readlines():\n",
        "            sp = line.strip().split('\\t')\n",
        "            vc = {\"id\":sp[0],\"label\":sp[-1],\"tweet\":sp[1]}\n",
        "            data.append(vc);\n",
        "            cnt += 1\n",
        "           \n",
        "        print(cnt)\n",
        "    return data \n"
      ],
      "execution_count": null,
      "outputs": []
    },
    {
      "cell_type": "code",
      "metadata": {
        "colab": {
          "base_uri": "https://localhost:8080/"
        },
        "id": "DW2-cstlpXjL",
        "outputId": "65f8363d-023f-472b-9f63-92cdc4210bd2"
      },
      "source": [
        "datasetPath1 = \"/content/POS.tsv\"\n",
        "datasetPath2 = \"/content/dataset_final.txt\"\n",
        "\n",
        "corpus1 = read_POS_data(\"random1\",datasetPath1)[1:]\n",
        "corpus1 = pd.DataFrame(corpus1)\n",
        "print(\"Corpus 1: \",corpus1.head())\n",
        "\n",
        "corpus2 = read_POS_data(\"random2\",datasetPath2)[1:]\n",
        "corpus2 = pd.DataFrame(corpus2)\n",
        "print(\"Corpus 2: \",corpus2.head())\n",
        "\n",
        "\n"
      ],
      "execution_count": null,
      "outputs": [
        {
          "output_type": "stream",
          "text": [
            "1489\n",
            "Corpus 1:           id                                              tweet\n",
            "0  random11  @ncpspeaks former Gen . V P Malik aur DGMO Vin...\n",
            "1  random12  Anyone heard of hafiz saeed , salahuddin or ma...\n",
            "2  random13  @ArvindKejriwal Worldwide #SurgicalStrike vdo ...\n",
            "3  random14  RT @UsmanAQayyum : Pak : Acha Dikao Zara Saboo...\n",
            "4  random15  All Netas demanding proof of #SurgicalStrike ,...\n",
            "1446\n",
            "Corpus 2:           id                                              tweet\n",
            "0  random21                                Call kar leti hoon \n",
            "1  random22  Light hai abhi , I'll try attending one myself . \n",
            "2  random23            agar attendance lag gayi toh badhiya . \n",
            "3  random24              main kal aayungi shaadi mei directly \n",
            "4  random25  room mei shayad kal bhi nahi stay karungi , ca...\n"
          ],
          "name": "stdout"
        }
      ]
    },
    {
      "cell_type": "code",
      "metadata": {
        "colab": {
          "base_uri": "https://localhost:8080/"
        },
        "id": "stuu9P9r03Ef",
        "outputId": "c8b08cf8-33df-4020-8b0e-f8be97d54f3f"
      },
      "source": [
        "corpus = pd.concat([corpus1,corpus2])\n",
        "print(len(corpus))\n"
      ],
      "execution_count": null,
      "outputs": [
        {
          "output_type": "stream",
          "text": [
            "2933\n"
          ],
          "name": "stdout"
        }
      ]
    },
    {
      "cell_type": "code",
      "metadata": {
        "colab": {
          "base_uri": "https://localhost:8080/",
          "height": 212
        },
        "id": "YSvh3EPzqHQP",
        "outputId": "0cba4631-0846-432c-c999-76975edfc215"
      },
      "source": [
        "#for dataset 3\n",
        "datasetPath = \"/content/IIITH_Codemixed.txt\"\n",
        "Train = read_IIITH_DATA(datasetPath)[1:]\n",
        "Train = pd.DataFrame(Train)\n",
        "Train.head()\n"
      ],
      "execution_count": null,
      "outputs": [
        {
          "output_type": "stream",
          "text": [
            "3879\n"
          ],
          "name": "stdout"
        },
        {
          "output_type": "execute_result",
          "data": {
            "text/html": [
              "<div>\n",
              "<style scoped>\n",
              "    .dataframe tbody tr th:only-of-type {\n",
              "        vertical-align: middle;\n",
              "    }\n",
              "\n",
              "    .dataframe tbody tr th {\n",
              "        vertical-align: top;\n",
              "    }\n",
              "\n",
              "    .dataframe thead th {\n",
              "        text-align: right;\n",
              "    }\n",
              "</style>\n",
              "<table border=\"1\" class=\"dataframe\">\n",
              "  <thead>\n",
              "    <tr style=\"text-align: right;\">\n",
              "      <th></th>\n",
              "      <th>id</th>\n",
              "      <th>label</th>\n",
              "      <th>tweet</th>\n",
              "    </tr>\n",
              "  </thead>\n",
              "  <tbody>\n",
              "    <tr>\n",
              "      <th>0</th>\n",
              "      <td>3</td>\n",
              "      <td>2</td>\n",
              "      <td>Love u sir love u soo much urs I'ts beautyful ...</td>\n",
              "    </tr>\n",
              "    <tr>\n",
              "      <th>1</th>\n",
              "      <td>4</td>\n",
              "      <td>1</td>\n",
              "      <td>Arae sur jee pahelae hamare bharat ke bachho k...</td>\n",
              "    </tr>\n",
              "    <tr>\n",
              "      <th>2</th>\n",
              "      <td>5</td>\n",
              "      <td>2</td>\n",
              "      <td>Wah! Jitni sundar geet ke bhao hain utnihi sun...</td>\n",
              "    </tr>\n",
              "    <tr>\n",
              "      <th>3</th>\n",
              "      <td>8</td>\n",
              "      <td>2</td>\n",
              "      <td>Sundar ekdam sahi Gaya Hua gana.chhotisi gudiy...</td>\n",
              "    </tr>\n",
              "    <tr>\n",
              "      <th>4</th>\n",
              "      <td>9</td>\n",
              "      <td>2</td>\n",
              "      <td>Wao lata mangekar</td>\n",
              "    </tr>\n",
              "  </tbody>\n",
              "</table>\n",
              "</div>"
            ],
            "text/plain": [
              "  id label                                              tweet\n",
              "0  3     2  Love u sir love u soo much urs I'ts beautyful ...\n",
              "1  4     1  Arae sur jee pahelae hamare bharat ke bachho k...\n",
              "2  5     2  Wah! Jitni sundar geet ke bhao hain utnihi sun...\n",
              "3  8     2  Sundar ekdam sahi Gaya Hua gana.chhotisi gudiy...\n",
              "4  9     2                                  Wao lata mangekar"
            ]
          },
          "metadata": {
            "tags": []
          },
          "execution_count": 5
        }
      ]
    },
    {
      "cell_type": "code",
      "metadata": {
        "colab": {
          "base_uri": "https://localhost:8080/"
        },
        "id": "ppbU0fsf1oLB",
        "outputId": "d154ec04-7bac-4993-a42d-aa1686e0cc3a"
      },
      "source": [
        "print(Train.isnull().values.any())"
      ],
      "execution_count": null,
      "outputs": [
        {
          "output_type": "stream",
          "text": [
            "False\n"
          ],
          "name": "stdout"
        }
      ]
    },
    {
      "cell_type": "code",
      "metadata": {
        "colab": {
          "base_uri": "https://localhost:8080/",
          "height": 195
        },
        "id": "_lh6aJkRvkrI",
        "outputId": "927e7ad2-a2f7-4812-ae71-a4f27a32b09e"
      },
      "source": [
        "#change labels\n",
        "Train[\"label\"] = Train[\"label\"].map({\"0\":\"negative\",\"1\":\"neutral\",\"2\":\"positive\"})\n",
        "Train.head()"
      ],
      "execution_count": null,
      "outputs": [
        {
          "output_type": "execute_result",
          "data": {
            "text/html": [
              "<div>\n",
              "<style scoped>\n",
              "    .dataframe tbody tr th:only-of-type {\n",
              "        vertical-align: middle;\n",
              "    }\n",
              "\n",
              "    .dataframe tbody tr th {\n",
              "        vertical-align: top;\n",
              "    }\n",
              "\n",
              "    .dataframe thead th {\n",
              "        text-align: right;\n",
              "    }\n",
              "</style>\n",
              "<table border=\"1\" class=\"dataframe\">\n",
              "  <thead>\n",
              "    <tr style=\"text-align: right;\">\n",
              "      <th></th>\n",
              "      <th>id</th>\n",
              "      <th>label</th>\n",
              "      <th>tweet</th>\n",
              "    </tr>\n",
              "  </thead>\n",
              "  <tbody>\n",
              "    <tr>\n",
              "      <th>0</th>\n",
              "      <td>3</td>\n",
              "      <td>positive</td>\n",
              "      <td>Love u sir love u soo much urs I'ts beautyful ...</td>\n",
              "    </tr>\n",
              "    <tr>\n",
              "      <th>1</th>\n",
              "      <td>4</td>\n",
              "      <td>neutral</td>\n",
              "      <td>Arae sur jee pahelae hamare bharat ke bachho k...</td>\n",
              "    </tr>\n",
              "    <tr>\n",
              "      <th>2</th>\n",
              "      <td>5</td>\n",
              "      <td>positive</td>\n",
              "      <td>Wah! Jitni sundar geet ke bhao hain utnihi sun...</td>\n",
              "    </tr>\n",
              "    <tr>\n",
              "      <th>3</th>\n",
              "      <td>8</td>\n",
              "      <td>positive</td>\n",
              "      <td>Sundar ekdam sahi Gaya Hua gana.chhotisi gudiy...</td>\n",
              "    </tr>\n",
              "    <tr>\n",
              "      <th>4</th>\n",
              "      <td>9</td>\n",
              "      <td>positive</td>\n",
              "      <td>Wao lata mangekar</td>\n",
              "    </tr>\n",
              "  </tbody>\n",
              "</table>\n",
              "</div>"
            ],
            "text/plain": [
              "  id     label                                              tweet\n",
              "0  3  positive  Love u sir love u soo much urs I'ts beautyful ...\n",
              "1  4   neutral  Arae sur jee pahelae hamare bharat ke bachho k...\n",
              "2  5  positive  Wah! Jitni sundar geet ke bhao hain utnihi sun...\n",
              "3  8  positive  Sundar ekdam sahi Gaya Hua gana.chhotisi gudiy...\n",
              "4  9  positive                                  Wao lata mangekar"
            ]
          },
          "metadata": {
            "tags": []
          },
          "execution_count": 7
        }
      ]
    },
    {
      "cell_type": "code",
      "metadata": {
        "id": "p2TLgnY04Xlp"
      },
      "source": [
        "#convert to sentances\n",
        "\n",
        "def read_conll(in_file, lowercase=False, max_example=None):\n",
        "    data = []\n",
        "    with open(in_file) as f:\n",
        "        words = \" \"\n",
        "        id = \"\";\n",
        "        label = \"\";\n",
        "        for line in f.readlines():\n",
        "            sp = line.strip().split('\\t')\n",
        "            if sp[0]==\"meta\" and len(sp)>2:\n",
        "              vc = {\"id\":id,\"label\":label,\"tweet\":words}\n",
        "              data.append(vc);\n",
        "              words = \" \"\n",
        "              id = sp[1]\n",
        "              label = sp[2]\n",
        "            elif len(sp)>1:\n",
        "              if sp[1]!=\"O\":\n",
        "                words = words + sp[0] +\" \" #+\"(\"+sp[1]+\") \"\n",
        "        vc = {\"id\":id,\"label\":label,\"tweet\":words}\n",
        "        data.append(vc);\n",
        "    return data \n",
        "\n",
        "def read_conll_test(in_file, lowercase=False, max_example=None):\n",
        "    data = []\n",
        "    with open(in_file) as f:\n",
        "        words = \" \"\n",
        "        id = \"\";\n",
        "        label = \"\";\n",
        "        for line in f.readlines():\n",
        "            sp = line.strip().split('\\t')\n",
        "            if sp[0]==\"meta\":\n",
        "              vc = {\"id\":id,\"tweet\":words}\n",
        "              data.append(vc);\n",
        "              words = \" \"\n",
        "              id = sp[1]\n",
        "            elif len(sp)>1:\n",
        "              if sp[1]!=\"O\":\n",
        "                words = words + sp[0] +\" \" # +\"(\"+sp[1]+\") \"\n",
        "        vc = {\"id\":id,\"tweet\":words}\n",
        "        data.append(vc);\n",
        "    return data "
      ],
      "execution_count": null,
      "outputs": []
    },
    {
      "cell_type": "code",
      "metadata": {
        "colab": {
          "base_uri": "https://localhost:8080/",
          "height": 195
        },
        "id": "siecocjG-Y_a",
        "outputId": "e5539243-090a-414d-a85c-12dbefa1b003"
      },
      "source": [
        "dataset = \"/content/test.txt\"\n",
        "test = read_conll_test(dataset)[1:]\n",
        "test = pd.DataFrame(test)\n",
        "test.head()\n"
      ],
      "execution_count": null,
      "outputs": [
        {
          "output_type": "execute_result",
          "data": {
            "text/html": [
              "<div>\n",
              "<style scoped>\n",
              "    .dataframe tbody tr th:only-of-type {\n",
              "        vertical-align: middle;\n",
              "    }\n",
              "\n",
              "    .dataframe tbody tr th {\n",
              "        vertical-align: top;\n",
              "    }\n",
              "\n",
              "    .dataframe thead th {\n",
              "        text-align: right;\n",
              "    }\n",
              "</style>\n",
              "<table border=\"1\" class=\"dataframe\">\n",
              "  <thead>\n",
              "    <tr style=\"text-align: right;\">\n",
              "      <th></th>\n",
              "      <th>id</th>\n",
              "      <th>tweet</th>\n",
              "    </tr>\n",
              "  </thead>\n",
              "  <tbody>\n",
              "    <tr>\n",
              "      <th>0</th>\n",
              "      <td>20803</td>\n",
              "      <td>454dkhan Heisunberg Agr kse ko itni important...</td>\n",
              "    </tr>\n",
              "    <tr>\n",
              "      <th>1</th>\n",
              "      <td>20187</td>\n",
              "      <td>logon ko alloo pyaz tomator me toh allah pak ...</td>\n",
              "    </tr>\n",
              "    <tr>\n",
              "      <th>2</th>\n",
              "      <td>20953</td>\n",
              "      <td>LambaAlka Wafadaar bane rahane ka nayab tarik...</td>\n",
              "    </tr>\n",
              "    <tr>\n",
              "      <th>3</th>\n",
              "      <td>13777</td>\n",
              "      <td>varnishant narendramodi Chup bhosdike He has ...</td>\n",
              "    </tr>\n",
              "    <tr>\n",
              "      <th>4</th>\n",
              "      <td>20990</td>\n",
              "      <td>RT HardeepSPuri Praise the Great Giver who gi...</td>\n",
              "    </tr>\n",
              "  </tbody>\n",
              "</table>\n",
              "</div>"
            ],
            "text/plain": [
              "      id                                              tweet\n",
              "0  20803   454dkhan Heisunberg Agr kse ko itni important...\n",
              "1  20187   logon ko alloo pyaz tomator me toh allah pak ...\n",
              "2  20953   LambaAlka Wafadaar bane rahane ka nayab tarik...\n",
              "3  13777   varnishant narendramodi Chup bhosdike He has ...\n",
              "4  20990   RT HardeepSPuri Praise the Great Giver who gi..."
            ]
          },
          "metadata": {
            "tags": []
          },
          "execution_count": 9
        }
      ]
    },
    {
      "cell_type": "code",
      "metadata": {
        "colab": {
          "base_uri": "https://localhost:8080/",
          "height": 195
        },
        "id": "pbykttluAm46",
        "outputId": "577c915e-7315-4aa9-e3ff-97bf005e00c1"
      },
      "source": [
        "labels = pd.read_csv(\"/content/test_labels.txt\")\n",
        "labels = pd.DataFrame(labels)\n",
        "labels.columns=[\"id\",\"label\"] \n",
        "labels['id']=labels['id'].astype(str)\n",
        "labels.head()"
      ],
      "execution_count": null,
      "outputs": [
        {
          "output_type": "execute_result",
          "data": {
            "text/html": [
              "<div>\n",
              "<style scoped>\n",
              "    .dataframe tbody tr th:only-of-type {\n",
              "        vertical-align: middle;\n",
              "    }\n",
              "\n",
              "    .dataframe tbody tr th {\n",
              "        vertical-align: top;\n",
              "    }\n",
              "\n",
              "    .dataframe thead th {\n",
              "        text-align: right;\n",
              "    }\n",
              "</style>\n",
              "<table border=\"1\" class=\"dataframe\">\n",
              "  <thead>\n",
              "    <tr style=\"text-align: right;\">\n",
              "      <th></th>\n",
              "      <th>id</th>\n",
              "      <th>label</th>\n",
              "    </tr>\n",
              "  </thead>\n",
              "  <tbody>\n",
              "    <tr>\n",
              "      <th>0</th>\n",
              "      <td>20803</td>\n",
              "      <td>neutral</td>\n",
              "    </tr>\n",
              "    <tr>\n",
              "      <th>1</th>\n",
              "      <td>20187</td>\n",
              "      <td>neutral</td>\n",
              "    </tr>\n",
              "    <tr>\n",
              "      <th>2</th>\n",
              "      <td>20953</td>\n",
              "      <td>neutral</td>\n",
              "    </tr>\n",
              "    <tr>\n",
              "      <th>3</th>\n",
              "      <td>13777</td>\n",
              "      <td>negative</td>\n",
              "    </tr>\n",
              "    <tr>\n",
              "      <th>4</th>\n",
              "      <td>20990</td>\n",
              "      <td>positive</td>\n",
              "    </tr>\n",
              "  </tbody>\n",
              "</table>\n",
              "</div>"
            ],
            "text/plain": [
              "      id     label\n",
              "0  20803   neutral\n",
              "1  20187   neutral\n",
              "2  20953   neutral\n",
              "3  13777  negative\n",
              "4  20990  positive"
            ]
          },
          "metadata": {
            "tags": []
          },
          "execution_count": 10
        }
      ]
    },
    {
      "cell_type": "code",
      "metadata": {
        "colab": {
          "base_uri": "https://localhost:8080/",
          "height": 195
        },
        "id": "N_u9jnE7AyaH",
        "outputId": "b9292175-13fe-4313-f59c-5b1250f8fb4d"
      },
      "source": [
        "# test = pd.concat([test, labels], axis = 1)\n",
        "test = pd.merge(test, labels, how='inner', on = 'id')\n",
        "test.head()"
      ],
      "execution_count": null,
      "outputs": [
        {
          "output_type": "execute_result",
          "data": {
            "text/html": [
              "<div>\n",
              "<style scoped>\n",
              "    .dataframe tbody tr th:only-of-type {\n",
              "        vertical-align: middle;\n",
              "    }\n",
              "\n",
              "    .dataframe tbody tr th {\n",
              "        vertical-align: top;\n",
              "    }\n",
              "\n",
              "    .dataframe thead th {\n",
              "        text-align: right;\n",
              "    }\n",
              "</style>\n",
              "<table border=\"1\" class=\"dataframe\">\n",
              "  <thead>\n",
              "    <tr style=\"text-align: right;\">\n",
              "      <th></th>\n",
              "      <th>id</th>\n",
              "      <th>tweet</th>\n",
              "      <th>label</th>\n",
              "    </tr>\n",
              "  </thead>\n",
              "  <tbody>\n",
              "    <tr>\n",
              "      <th>0</th>\n",
              "      <td>20803</td>\n",
              "      <td>454dkhan Heisunberg Agr kse ko itni important...</td>\n",
              "      <td>neutral</td>\n",
              "    </tr>\n",
              "    <tr>\n",
              "      <th>1</th>\n",
              "      <td>20187</td>\n",
              "      <td>logon ko alloo pyaz tomator me toh allah pak ...</td>\n",
              "      <td>neutral</td>\n",
              "    </tr>\n",
              "    <tr>\n",
              "      <th>2</th>\n",
              "      <td>20953</td>\n",
              "      <td>LambaAlka Wafadaar bane rahane ka nayab tarik...</td>\n",
              "      <td>neutral</td>\n",
              "    </tr>\n",
              "    <tr>\n",
              "      <th>3</th>\n",
              "      <td>13777</td>\n",
              "      <td>varnishant narendramodi Chup bhosdike He has ...</td>\n",
              "      <td>negative</td>\n",
              "    </tr>\n",
              "    <tr>\n",
              "      <th>4</th>\n",
              "      <td>20990</td>\n",
              "      <td>RT HardeepSPuri Praise the Great Giver who gi...</td>\n",
              "      <td>positive</td>\n",
              "    </tr>\n",
              "  </tbody>\n",
              "</table>\n",
              "</div>"
            ],
            "text/plain": [
              "      id                                              tweet     label\n",
              "0  20803   454dkhan Heisunberg Agr kse ko itni important...   neutral\n",
              "1  20187   logon ko alloo pyaz tomator me toh allah pak ...   neutral\n",
              "2  20953   LambaAlka Wafadaar bane rahane ka nayab tarik...   neutral\n",
              "3  13777   varnishant narendramodi Chup bhosdike He has ...  negative\n",
              "4  20990   RT HardeepSPuri Praise the Great Giver who gi...  positive"
            ]
          },
          "metadata": {
            "tags": []
          },
          "execution_count": 11
        }
      ]
    },
    {
      "cell_type": "code",
      "metadata": {
        "colab": {
          "base_uri": "https://localhost:8080/",
          "height": 195
        },
        "id": "QDMN__nq51JF",
        "outputId": "66733dfd-82cb-4870-bcd4-1b8f7d4ca829"
      },
      "source": [
        "import pandas as pd\n",
        "dataset1 = '/content/train.txt'\n",
        "dataset2 = '/content/valid.txt'\n",
        "\n",
        "train = read_conll(dataset1)[1:];\n",
        "valid = read_conll(dataset2)[1:];\n",
        "train = pd.DataFrame(train)\n",
        "valid = pd.DataFrame(valid)\n",
        "\n",
        "valid.head()"
      ],
      "execution_count": null,
      "outputs": [
        {
          "output_type": "execute_result",
          "data": {
            "text/html": [
              "<div>\n",
              "<style scoped>\n",
              "    .dataframe tbody tr th:only-of-type {\n",
              "        vertical-align: middle;\n",
              "    }\n",
              "\n",
              "    .dataframe tbody tr th {\n",
              "        vertical-align: top;\n",
              "    }\n",
              "\n",
              "    .dataframe thead th {\n",
              "        text-align: right;\n",
              "    }\n",
              "</style>\n",
              "<table border=\"1\" class=\"dataframe\">\n",
              "  <thead>\n",
              "    <tr style=\"text-align: right;\">\n",
              "      <th></th>\n",
              "      <th>id</th>\n",
              "      <th>label</th>\n",
              "      <th>tweet</th>\n",
              "    </tr>\n",
              "  </thead>\n",
              "  <tbody>\n",
              "    <tr>\n",
              "      <th>0</th>\n",
              "      <td>30258</td>\n",
              "      <td>positive</td>\n",
              "      <td>prahladspatel modi mantrimandal may samil hon...</td>\n",
              "    </tr>\n",
              "    <tr>\n",
              "      <th>1</th>\n",
              "      <td>16648</td>\n",
              "      <td>negative</td>\n",
              "      <td>bkunalraj TajinderBagga NikhilJakhar14 JammuP...</td>\n",
              "    </tr>\n",
              "    <tr>\n",
              "      <th>2</th>\n",
              "      <td>28511</td>\n",
              "      <td>negative</td>\n",
              "      <td>waglenikhil U saw caste and religion in them ...</td>\n",
              "    </tr>\n",
              "    <tr>\n",
              "      <th>3</th>\n",
              "      <td>10466</td>\n",
              "      <td>neutral</td>\n",
              "      <td>DelhiPolice sir local police station pe compl...</td>\n",
              "    </tr>\n",
              "    <tr>\n",
              "      <th>4</th>\n",
              "      <td>19266</td>\n",
              "      <td>positive</td>\n",
              "      <td>Ve Maahi song from Kesari is current favourit...</td>\n",
              "    </tr>\n",
              "  </tbody>\n",
              "</table>\n",
              "</div>"
            ],
            "text/plain": [
              "      id     label                                              tweet\n",
              "0  30258  positive   prahladspatel modi mantrimandal may samil hon...\n",
              "1  16648  negative   bkunalraj TajinderBagga NikhilJakhar14 JammuP...\n",
              "2  28511  negative   waglenikhil U saw caste and religion in them ...\n",
              "3  10466   neutral   DelhiPolice sir local police station pe compl...\n",
              "4  19266  positive   Ve Maahi song from Kesari is current favourit..."
            ]
          },
          "metadata": {
            "tags": []
          },
          "execution_count": 12
        }
      ]
    },
    {
      "cell_type": "code",
      "metadata": {
        "colab": {
          "base_uri": "https://localhost:8080/"
        },
        "id": "GdyulnVIP8pr",
        "outputId": "ec3c055b-2e78-481a-d756-5d3e6483f80d"
      },
      "source": [
        "print(train['tweet'][0])"
      ],
      "execution_count": null,
      "outputs": [
        {
          "output_type": "stream",
          "text": [
            " nen vist bolest vztek smutek zmatek osam lost beznad j a nakonec jen klid Asi takhle vypad m j life \n"
          ],
          "name": "stdout"
        }
      ]
    },
    {
      "cell_type": "code",
      "metadata": {
        "colab": {
          "base_uri": "https://localhost:8080/"
        },
        "id": "SU90QuNGupFx",
        "outputId": "dbb7ca2b-c997-49c0-a4b6-e5dc1744a29b"
      },
      "source": [
        "import numpy as np\n",
        "\n",
        "#split the IIITH data\n",
        "print(\"ToTOAL \" ,len(Train))\n",
        "\n",
        "msk = np.random.rand(len(Train)) < 0.8\n",
        "df1 = Train[msk]\n",
        "df2 = Train[~msk]\n",
        "print(\"TRAIN\", len(df1),\" Valid: \",len(df2))"
      ],
      "execution_count": null,
      "outputs": [
        {
          "output_type": "stream",
          "text": [
            "ToTOAL  3878\n",
            "TRAIN 3106  Valid:  772\n"
          ],
          "name": "stdout"
        }
      ]
    },
    {
      "cell_type": "code",
      "metadata": {
        "colab": {
          "base_uri": "https://localhost:8080/"
        },
        "id": "qv6fYRmoxh3Z",
        "outputId": "b85a586d-1ddf-48fb-a3f1-74a31ff37b2f"
      },
      "source": [
        "# MERGE the IIITH and semval\n",
        "train = pd.concat([train,df1])\n",
        "valid = pd.concat([valid,df2])\n",
        "print(\"TRAIN\", len(train),\" Valid: \",len(valid))"
      ],
      "execution_count": null,
      "outputs": [
        {
          "output_type": "stream",
          "text": [
            "TRAIN 17106  Valid:  3772\n"
          ],
          "name": "stdout"
        }
      ]
    },
    {
      "cell_type": "code",
      "metadata": {
        "id": "RwsamtVYInrL"
      },
      "source": [
        "train.to_csv(\"Train.csv\")\n",
        "valid.to_csv(\"Valid.csv\")\n",
        "test.to_csv(\"Test.csv\")\n"
      ],
      "execution_count": null,
      "outputs": []
    },
    {
      "cell_type": "code",
      "metadata": {
        "id": "g_L5A-i8T2xl"
      },
      "source": [
        "Trainx = pd.read_csv(\"/content/Train.csv\")\n",
        "Validx = pd.read_csv(\"/content/Valid.csv\")\n",
        "Testx = pd.read_csv(\"/content/Test.csv\")"
      ],
      "execution_count": null,
      "outputs": []
    },
    {
      "cell_type": "code",
      "metadata": {
        "id": "byTn19GUKM14"
      },
      "source": [
        "Trainx = Trainx.reset_index()\n",
        "Validx = Validx.reset_index()\n",
        "Testx = Testx.reset_index()"
      ],
      "execution_count": null,
      "outputs": []
    },
    {
      "cell_type": "code",
      "metadata": {
        "colab": {
          "base_uri": "https://localhost:8080/"
        },
        "id": "le_T3rbiSq7x",
        "outputId": "0c159d4c-12f7-4d0b-a905-0406cf616fc0"
      },
      "source": [
        "print(Trainx['tweet'][0])\n",
        "print(Testx.isna().any().any())"
      ],
      "execution_count": null,
      "outputs": [
        {
          "output_type": "stream",
          "text": [
            " nen vist bolest vztek smutek zmatek osam lost beznad j a nakonec jen klid Asi takhle vypad m j life \n",
            "False\n"
          ],
          "name": "stdout"
        }
      ]
    },
    {
      "cell_type": "code",
      "metadata": {
        "id": "lliGOKbAYAMs"
      },
      "source": [
        "tx=Trainx['tweet']\n",
        "ty = Trainx['label']\n",
        "vx = Validx['tweet']\n",
        "vy = Validx['label']\n",
        "tex = Testx['tweet']\n",
        "tey = Testx['label']"
      ],
      "execution_count": null,
      "outputs": []
    },
    {
      "cell_type": "code",
      "metadata": {
        "colab": {
          "base_uri": "https://localhost:8080/"
        },
        "id": "D6yzBkZvX-P2",
        "outputId": "bc56b6e2-0c3e-4c8a-a36e-e00f6017a05e"
      },
      "source": [
        "import re\n",
        "import nltk\n",
        "from nltk.corpus import stopwords\n",
        "nltk.download('stopwords')\n",
        "list1 =[]\n",
        "for i in range(0, len(tx)):\n",
        "    title = tx[i]\n",
        "    \n",
        "    if i==1560:\n",
        "        print(title)\n",
        "    title = re.sub(\"@ [\\w]+\",'',title)\n",
        "    title=re.sub(r'http[s]?.*$', '', title)\n",
        "    \n",
        "    title = re.sub('([^A-Za-z \\t])|(\\w+:\\/\\/\\S+)', '', title)\n",
        "    if i==1560:\n",
        "        print(title)\n",
        "    title = title.lower()\n",
        "    title = title.split()\n",
        "    title = [word for word in title if not word in stopwords.words('english')]  \n",
        "    title = ' '.join(title)\n",
        "    list1.append(title)\n",
        "    "
      ],
      "execution_count": null,
      "outputs": [
        {
          "output_type": "stream",
          "text": [
            "[nltk_data] Downloading package stopwords to /root/nltk_data...\n",
            "[nltk_data]   Package stopwords is already up-to-date!\n",
            " RT Rahul31316222 https t co BfQUHJIB7C Gud nyt guys with his emotional song jise sunkar sari tension chli jayegi only mom ko hug krn \n",
            " RT Rahul \n"
          ],
          "name": "stdout"
        }
      ]
    },
    {
      "cell_type": "code",
      "metadata": {
        "id": "W2yur_n1cLb5"
      },
      "source": [
        "list2 =[]\n",
        "for i in range(0, len(vx)):\n",
        "    title = vx[i]\n",
        "    title = re.sub(\"@ [\\w]+\",'',title)\n",
        "    title=re.sub(r'http[s]?.*$', '', title)    \n",
        "    title = re.sub('([^A-Za-z \\t])|(\\w+:\\/\\/\\S+)', '', title)\n",
        "\n",
        "    title = title.lower()\n",
        "    title = title.split()\n",
        "    title = [word for word in title if not word in stopwords.words('english')]  \n",
        "    title = ' '.join(title)\n",
        "    list2.append(title)\n",
        "\n",
        "list3 =[]\n",
        "for i in range(0, len(tex)):\n",
        "    title = tex[i]\n",
        "    title = re.sub(\"@ [\\w]+\",'',title)\n",
        "    title=re.sub(r'http[s]?.*$', '', title)    \n",
        "    title = re.sub('([^A-Za-z \\t])|(\\w+:\\/\\/\\S+)', '', title)\n",
        "\n",
        "    title = title.lower()\n",
        "    title = title.split()\n",
        "    title = [word for word in title if not word in stopwords.words('english')]  \n",
        "    title = ' '.join(title)\n",
        "    list3.append(title)\n"
      ],
      "execution_count": null,
      "outputs": []
    },
    {
      "cell_type": "code",
      "metadata": {
        "colab": {
          "base_uri": "https://localhost:8080/"
        },
        "id": "7-HRoWWHZ2c7",
        "outputId": "a20defd2-a3b8-43cd-cf35-6b58943f73ca"
      },
      "source": [
        "\n",
        "print(list1[0])\n",
        "print(list2[0])\n",
        "print(list3[0])\n",
        "print(len(list1))\n",
        "print(len(ty))\n",
        "print(len(list2))\n",
        "print(len(vy))\n",
        "print(len(list3))\n",
        "print(len(tey))"
      ],
      "execution_count": null,
      "outputs": [
        {
          "output_type": "stream",
          "text": [
            "nen vist bolest vztek smutek zmatek osam lost beznad j nakonec jen klid asi takhle vypad j life\n",
            "prahladspatel modi mantrimandal may samil honay par badhai narmaday har\n",
            "dkhan heisunberg agr kse ko itni importantce chaeay ni tou\n",
            "17106\n",
            "17106\n",
            "3772\n",
            "3772\n",
            "3000\n",
            "3000\n"
          ],
          "name": "stdout"
        }
      ]
    },
    {
      "cell_type": "code",
      "metadata": {
        "id": "SIN654mNeF4Q"
      },
      "source": [
        "t1 = []\n",
        "l1 = []\n",
        "t2 = []\n",
        "l2 = []\n",
        "t3 = []\n",
        "l3 = []\n",
        "for i in range(0,len(list1)):\n",
        "    title = list1[i].split()    \n",
        "    if len(title)>3:\n",
        "        t1.append(list1[i])\n",
        "        l1.append(ty[i])\n",
        "for i in range(0,len(list2)):\n",
        "    title = list2[i].split()    \n",
        "    if len(title)>3:\n",
        "        t2.append(list2[i])\n",
        "        l2.append(vy[i])\n",
        "for i in range(0,len(list3)):\n",
        "    title = list3[i].split()    \n",
        "    if len(title)>3:\n",
        "        t3.append(list3[i])\n",
        "        l3.append(tey[i])"
      ],
      "execution_count": null,
      "outputs": []
    },
    {
      "cell_type": "code",
      "metadata": {
        "colab": {
          "base_uri": "https://localhost:8080/"
        },
        "id": "93ScQWi9fDVX",
        "outputId": "3a7c6884-73af-43fe-a5ad-6949d13da656"
      },
      "source": [
        "print(len(t1))\n",
        "print(len(l1))\n",
        "print(len(t2))\n",
        "print(len(l2))\n",
        "print(len(t3))\n",
        "print(len(l3))"
      ],
      "execution_count": null,
      "outputs": [
        {
          "output_type": "stream",
          "text": [
            "16642\n",
            "16642\n",
            "3670\n",
            "3670\n",
            "2993\n",
            "2993\n"
          ],
          "name": "stdout"
        }
      ]
    },
    {
      "cell_type": "code",
      "metadata": {
        "colab": {
          "base_uri": "https://localhost:8080/"
        },
        "id": "jEU2AWQNfz0m",
        "outputId": "0c771d61-b320-4bd1-ce62-66c7da1fc58b"
      },
      "source": [
        "dict = {}\n",
        "for i in range(0, len(t1)):\n",
        "    x = t1[i].split()\n",
        "    for words in x:\n",
        "        if words in dict:   \n",
        "        # If the word exists in dictionary then simply increase its count           \n",
        "            dict[words] += 1             \n",
        "        else:  \n",
        "        # If the word does not exists in dictionary update the dictionary and make its count 1   \n",
        "            dict.update({words: 1}) \n",
        "\n",
        "voc_size = len(dict) \n",
        "\n",
        "print(voc_size)\n",
        "maxSentenceLength = max([len(i) for i in t1])\n",
        "print(maxSentenceLength)"
      ],
      "execution_count": null,
      "outputs": [
        {
          "output_type": "stream",
          "text": [
            "41536\n",
            "416\n"
          ],
          "name": "stdout"
        }
      ]
    },
    {
      "cell_type": "code",
      "metadata": {
        "id": "TbJtubbtgjLN"
      },
      "source": [
        "from keras.preprocessing.text import Tokenizer\n",
        "from keras.preprocessing.sequence import pad_sequences\n",
        "from keras.utils import to_categorical\n",
        "from keras.utils import plot_model\n",
        "from keras.models import Model,Sequential\n",
        "from keras.layers import Input\n",
        "from keras.layers import Dense\n",
        "from keras.layers import LSTM ,Bidirectional\n",
        "from keras.layers import Embedding\n",
        "from keras.layers import Dropout,SpatialDropout1D\n",
        "from keras.layers.merge import add\n",
        "from keras.callbacks import ModelCheckpoint\n",
        "from keras.optimizers import Adam,SGD,RMSprop"
      ],
      "execution_count": null,
      "outputs": []
    },
    {
      "cell_type": "code",
      "metadata": {
        "colab": {
          "base_uri": "https://localhost:8080/"
        },
        "id": "m9Yj5jn-gof1",
        "outputId": "d94f784a-e992-409c-8489-d13b63631713"
      },
      "source": [
        "to1 = Tokenizer(num_words=voc_size)\n",
        "to1.fit_on_texts(t1)\n",
        "\n",
        "wordToSequenceTrain=to1.texts_to_sequences(t1)\n",
        "print(wordToSequenceTrain[2])\n",
        "padSequenceTrain=pad_sequences(wordToSequenceTrain,padding='post',truncating='post',maxlen=maxSentenceLength)\n",
        "\n",
        "\n",
        "wordToSequenceVal=to1.texts_to_sequences(t2)\n",
        "padSequenceVal=pad_sequences(wordToSequenceVal,padding='post',truncating='post',maxlen=maxSentenceLength)\n",
        "\n",
        "wordToSequenceTest=to1.texts_to_sequences(t3)\n",
        "padSequenceTest=pad_sequences(wordToSequenceTest,padding='post',truncating='post',maxlen=maxSentenceLength)\n"
      ],
      "execution_count": null,
      "outputs": [
        {
          "output_type": "stream",
          "text": [
            "[140, 7352, 90, 58, 6, 50, 23, 16, 11, 67, 124, 158, 295, 14, 268, 97, 751, 97, 2, 58, 6]\n"
          ],
          "name": "stdout"
        }
      ]
    },
    {
      "cell_type": "code",
      "metadata": {
        "colab": {
          "base_uri": "https://localhost:8080/"
        },
        "id": "0QuXMDekhejm",
        "outputId": "92e859d9-66b0-4cac-fda7-9a684ed43733"
      },
      "source": [
        "from sklearn.preprocessing import LabelEncoder\n",
        "from tensorflow.keras.utils import to_categorical\n",
        "import numpy as np\n",
        "\n",
        "l1 = np.array(l1)\n",
        "l2 = np.array(l2)\n",
        "l3 = np.array(l3)\n",
        "\n",
        "lable = LabelEncoder()\n",
        "Label_train = lable.fit_transform(l1)\n",
        "print(Label_train.shape)\n",
        "y1 = to_categorical(Label_train,num_classes=3)\n",
        "\n",
        "lable = LabelEncoder()\n",
        "Label_val = lable.fit_transform(l2)\n",
        "print(Label_val.shape)\n",
        "y2 = to_categorical(Label_val,num_classes=3)\n",
        "\n",
        "lable = LabelEncoder()\n",
        "Label_test = lable.fit_transform(l3)\n",
        "print(Label_test.shape)\n",
        "y3 = to_categorical(Label_test,num_classes=3)"
      ],
      "execution_count": null,
      "outputs": [
        {
          "output_type": "stream",
          "text": [
            "(16642,)\n",
            "(3670,)\n",
            "(2993,)\n"
          ],
          "name": "stdout"
        }
      ]
    },
    {
      "cell_type": "code",
      "metadata": {
        "colab": {
          "base_uri": "https://localhost:8080/"
        },
        "id": "PiFw8b6ZiSMm",
        "outputId": "9990b9a7-7744-449c-a883-798bdd7dc018"
      },
      "source": [
        "x_train=np.array(padSequenceTrain)\n",
        "y_train = np.array(y1)\n",
        "\n",
        "x_val=np.array(padSequenceVal)\n",
        "y_val = np.array(y2)\n",
        "\n",
        "x_test=np.array(padSequenceTest)\n",
        "y_test = np.array(y3)\n",
        "\n",
        "print(x_train.shape)\n",
        "print(y_train.shape)\n",
        "print(x_val.shape)\n",
        "print(y_val.shape)\n",
        "print(x_test.shape)\n",
        "print(y_test.shape)\n",
        "print(x_train[1])\n",
        "print(y_train[1])"
      ],
      "execution_count": null,
      "outputs": [
        {
          "output_type": "stream",
          "text": [
            "(16642, 416)\n",
            "(16642, 3)\n",
            "(3670, 416)\n",
            "(3670, 3)\n",
            "(2993, 416)\n",
            "(2993, 3)\n",
            "[15419   907   447  3745   291   679   339   402  1782    25   476    57\n",
            " 15420   197   181   198   339   402   679     0     0     0     0     0\n",
            "     0     0     0     0     0     0     0     0     0     0     0     0\n",
            "     0     0     0     0     0     0     0     0     0     0     0     0\n",
            "     0     0     0     0     0     0     0     0     0     0     0     0\n",
            "     0     0     0     0     0     0     0     0     0     0     0     0\n",
            "     0     0     0     0     0     0     0     0     0     0     0     0\n",
            "     0     0     0     0     0     0     0     0     0     0     0     0\n",
            "     0     0     0     0     0     0     0     0     0     0     0     0\n",
            "     0     0     0     0     0     0     0     0     0     0     0     0\n",
            "     0     0     0     0     0     0     0     0     0     0     0     0\n",
            "     0     0     0     0     0     0     0     0     0     0     0     0\n",
            "     0     0     0     0     0     0     0     0     0     0     0     0\n",
            "     0     0     0     0     0     0     0     0     0     0     0     0\n",
            "     0     0     0     0     0     0     0     0     0     0     0     0\n",
            "     0     0     0     0     0     0     0     0     0     0     0     0\n",
            "     0     0     0     0     0     0     0     0     0     0     0     0\n",
            "     0     0     0     0     0     0     0     0     0     0     0     0\n",
            "     0     0     0     0     0     0     0     0     0     0     0     0\n",
            "     0     0     0     0     0     0     0     0     0     0     0     0\n",
            "     0     0     0     0     0     0     0     0     0     0     0     0\n",
            "     0     0     0     0     0     0     0     0     0     0     0     0\n",
            "     0     0     0     0     0     0     0     0     0     0     0     0\n",
            "     0     0     0     0     0     0     0     0     0     0     0     0\n",
            "     0     0     0     0     0     0     0     0     0     0     0     0\n",
            "     0     0     0     0     0     0     0     0     0     0     0     0\n",
            "     0     0     0     0     0     0     0     0     0     0     0     0\n",
            "     0     0     0     0     0     0     0     0     0     0     0     0\n",
            "     0     0     0     0     0     0     0     0     0     0     0     0\n",
            "     0     0     0     0     0     0     0     0     0     0     0     0\n",
            "     0     0     0     0     0     0     0     0     0     0     0     0\n",
            "     0     0     0     0     0     0     0     0     0     0     0     0\n",
            "     0     0     0     0     0     0     0     0     0     0     0     0\n",
            "     0     0     0     0     0     0     0     0     0     0     0     0\n",
            "     0     0     0     0     0     0     0     0]\n",
            "[0. 1. 0.]\n"
          ],
          "name": "stdout"
        }
      ]
    },
    {
      "cell_type": "code",
      "metadata": {
        "colab": {
          "base_uri": "https://localhost:8080/"
        },
        "id": "78-mh_HpjNL-",
        "outputId": "83e8477e-0831-4c37-e3c6-4a4068016f4d"
      },
      "source": [
        "embedding_vector_features=50\n",
        "model=Sequential()\n",
        "model.add(Embedding(voc_size,embedding_vector_features, mask_zero=True,trainable=True))\n",
        "model.add(SpatialDropout1D(0.3))\n",
        "model.add(Bidirectional(LSTM(64,dropout=0.7, recurrent_dropout=0.7)))\n",
        "model.add(Dense(512,activation='relu'))\n",
        "model.add(Dense(3,activation='softmax'))\n",
        "#opt = SGD(lr=0.0001)\n",
        "opt = Adam(lr = 0.0001)\n",
        "model.compile(optimizer=opt,loss='categorical_crossentropy',metrics=['accuracy'])\n",
        "print(model.summary())"
      ],
      "execution_count": null,
      "outputs": [
        {
          "output_type": "stream",
          "text": [
            "WARNING:tensorflow:Layer lstm will not use cuDNN kernel since it doesn't meet the cuDNN kernel criteria. It will use generic GPU kernel as fallback when running on GPU\n",
            "WARNING:tensorflow:Layer lstm will not use cuDNN kernel since it doesn't meet the cuDNN kernel criteria. It will use generic GPU kernel as fallback when running on GPU\n",
            "WARNING:tensorflow:Layer lstm will not use cuDNN kernel since it doesn't meet the cuDNN kernel criteria. It will use generic GPU kernel as fallback when running on GPU\n",
            "Model: \"sequential\"\n",
            "_________________________________________________________________\n",
            "Layer (type)                 Output Shape              Param #   \n",
            "=================================================================\n",
            "embedding (Embedding)        (None, None, 50)          2076800   \n",
            "_________________________________________________________________\n",
            "spatial_dropout1d (SpatialDr (None, None, 50)          0         \n",
            "_________________________________________________________________\n",
            "bidirectional (Bidirectional (None, 128)               58880     \n",
            "_________________________________________________________________\n",
            "dense (Dense)                (None, 512)               66048     \n",
            "_________________________________________________________________\n",
            "dense_1 (Dense)              (None, 3)                 1539      \n",
            "=================================================================\n",
            "Total params: 2,203,267\n",
            "Trainable params: 2,203,267\n",
            "Non-trainable params: 0\n",
            "_________________________________________________________________\n",
            "None\n"
          ],
          "name": "stdout"
        }
      ]
    },
    {
      "cell_type": "code",
      "metadata": {
        "colab": {
          "base_uri": "https://localhost:8080/",
          "height": 644
        },
        "id": "qEAfDtApVjUG",
        "outputId": "9d70ebba-542c-4870-dce4-51e76bfa4aaa"
      },
      "source": [
        "from keras.utils.vis_utils import plot_model\n",
        "plot_model(model, to_file='model_plot.png', show_shapes=True, show_layer_names=True)"
      ],
      "execution_count": null,
      "outputs": [
        {
          "output_type": "execute_result",
          "data": {
            "image/png": "[encoded data removed]",
            "text/plain": [
              "<IPython.core.display.Image object>"
            ]
          },
          "metadata": {
            "tags": []
          },
          "execution_count": 35
        }
      ]
    },
    {
      "cell_type": "code",
      "metadata": {
        "colab": {
          "base_uri": "https://localhost:8080/"
        },
        "id": "2_KEEFeMjRJl",
        "outputId": "105448d5-d989-4c4c-b0ba-b2149e23174b"
      },
      "source": [
        "history=model.fit(x_train,y_train,validation_data=(x_val,y_val),epochs=15,batch_size=128)\n",
        "model.save('/content/rnn_model.h5')\n",
        "model.save_weights('/content/rnn_weight.h5')"
      ],
      "execution_count": null,
      "outputs": [
        {
          "output_type": "stream",
          "text": [
            "Epoch 1/15\n",
            "131/131 [==============================] - 403s 3s/step - loss: 1.0949 - accuracy: 0.3873 - val_loss: 1.0841 - val_accuracy: 0.4011\n",
            "Epoch 2/15\n",
            "131/131 [==============================] - 401s 3s/step - loss: 1.0826 - accuracy: 0.3851 - val_loss: 1.0111 - val_accuracy: 0.4771\n",
            "Epoch 3/15\n",
            "131/131 [==============================] - 403s 3s/step - loss: 0.9738 - accuracy: 0.5078 - val_loss: 0.9065 - val_accuracy: 0.5711\n",
            "Epoch 4/15\n",
            "131/131 [==============================] - 394s 3s/step - loss: 0.8898 - accuracy: 0.5712 - val_loss: 0.8859 - val_accuracy: 0.5787\n",
            "Epoch 5/15\n",
            "131/131 [==============================] - 394s 3s/step - loss: 0.8566 - accuracy: 0.5984 - val_loss: 0.8692 - val_accuracy: 0.5929\n",
            "Epoch 6/15\n",
            "131/131 [==============================] - 400s 3s/step - loss: 0.8112 - accuracy: 0.6374 - val_loss: 0.8598 - val_accuracy: 0.5926\n",
            "Epoch 7/15\n",
            "131/131 [==============================] - 399s 3s/step - loss: 0.7751 - accuracy: 0.6533 - val_loss: 0.8586 - val_accuracy: 0.6000\n",
            "Epoch 8/15\n",
            "131/131 [==============================] - 394s 3s/step - loss: 0.7414 - accuracy: 0.6770 - val_loss: 0.8518 - val_accuracy: 0.6057\n",
            "Epoch 9/15\n",
            "131/131 [==============================] - 394s 3s/step - loss: 0.7160 - accuracy: 0.6874 - val_loss: 0.8537 - val_accuracy: 0.6090\n",
            "Epoch 10/15\n",
            "131/131 [==============================] - 393s 3s/step - loss: 0.6852 - accuracy: 0.7067 - val_loss: 0.8621 - val_accuracy: 0.6093\n",
            "Epoch 11/15\n",
            "131/131 [==============================] - 395s 3s/step - loss: 0.6568 - accuracy: 0.7270 - val_loss: 0.8694 - val_accuracy: 0.6104\n",
            "Epoch 12/15\n",
            "131/131 [==============================] - 396s 3s/step - loss: 0.6175 - accuracy: 0.7500 - val_loss: 0.8769 - val_accuracy: 0.6093\n",
            "Epoch 13/15\n",
            "131/131 [==============================] - 394s 3s/step - loss: 0.6125 - accuracy: 0.7452 - val_loss: 0.8871 - val_accuracy: 0.6093\n",
            "Epoch 14/15\n",
            "131/131 [==============================] - 395s 3s/step - loss: 0.5754 - accuracy: 0.7698 - val_loss: 0.9061 - val_accuracy: 0.6046\n",
            "Epoch 15/15\n",
            "131/131 [==============================] - 397s 3s/step - loss: 0.5559 - accuracy: 0.7792 - val_loss: 0.9165 - val_accuracy: 0.6106\n"
          ],
          "name": "stdout"
        }
      ]
    },
    {
      "cell_type": "code",
      "metadata": {
        "colab": {
          "base_uri": "https://localhost:8080/",
          "height": 1000
        },
        "id": "XNzYeFHvzHOf",
        "outputId": "f82e6b83-e0b5-4dd8-90ad-ae775642181c"
      },
      "source": [
        "import matplotlib.pyplot as plt\n",
        "\n",
        "plt.plot(history.history['accuracy'])\n",
        "plt.plot(history.history['val_accuracy'])\n",
        "plt.title('model accuracy')\n",
        "plt.ylabel('accuracy')\n",
        "plt.xlabel('epoch')\n",
        "plt.legend(['train','test'],loc = 'upper_left')\n",
        "plt.show()\n",
        "\n",
        "plt.plot(history.history['loss'])\n",
        "plt.plot(history.history['val_loss'])\n",
        "plt.title('model loss')\n",
        "plt.ylabel('loss')\n",
        "plt.xlabel('epoch')\n",
        "plt.legend(['train','test'],loc = 'upper_left')"
      ],
      "execution_count": null,
      "outputs": [
        {
          "output_type": "stream",
          "text": [
            "/usr/local/lib/python3.7/dist-packages/ipykernel_launcher.py:8: MatplotlibDeprecationWarning: Unrecognized location 'upper_left'. Falling back on 'best'; valid locations are\n",
            "\tbest\n",
            "\tupper right\n",
            "\tupper left\n",
            "\tlower left\n",
            "\tlower right\n",
            "\tright\n",
            "\tcenter left\n",
            "\tcenter right\n",
            "\tlower center\n",
            "\tupper center\n",
            "\tcenter\n",
            "This will raise an exception in 3.3.\n",
            "  \n"
          ],
          "name": "stderr"
        },
        {
          "output_type": "display_data",
          "data": {
            "image/png": "[encoded data removed]",
            "text/plain": [
              "<Figure size 432x288 with 1 Axes>"
            ]
          },
          "metadata": {
            "tags": [],
            "needs_background": "light"
          }
        },
        {
          "output_type": "stream",
          "text": [
            "/usr/local/lib/python3.7/dist-packages/ipykernel_launcher.py:16: MatplotlibDeprecationWarning: Unrecognized location 'upper_left'. Falling back on 'best'; valid locations are\n",
            "\tbest\n",
            "\tupper right\n",
            "\tupper left\n",
            "\tlower left\n",
            "\tlower right\n",
            "\tright\n",
            "\tcenter left\n",
            "\tcenter right\n",
            "\tlower center\n",
            "\tupper center\n",
            "\tcenter\n",
            "This will raise an exception in 3.3.\n",
            "  app.launch_new_instance()\n"
          ],
          "name": "stderr"
        },
        {
          "output_type": "execute_result",
          "data": {
            "text/plain": [
              "<matplotlib.legend.Legend at 0x7fed0b235d90>"
            ]
          },
          "metadata": {
            "tags": []
          },
          "execution_count": 37
        },
        {
          "output_type": "display_data",
          "data": {
            "image/png": "[encoded data removed]",
            "text/plain": [
              "<Figure size 432x288 with 1 Axes>"
            ]
          },
          "metadata": {
            "tags": [],
            "needs_background": "light"
          }
        }
      ]
    },
    {
      "cell_type": "code",
      "metadata": {
        "id": "O8QENNoGzST9"
      },
      "source": [
        "def plot_confusion_matrix(cm, classes, normalize=True, title='Confusion matrix', cmap=plt.cm.Blues):\n",
        "\n",
        "    plt.figure(figsize=(10,10))\n",
        "    plt.imshow(cm, interpolation='nearest', cmap=cmap)\n",
        "    plt.title(title)\n",
        "    plt.colorbar()\n",
        "\n",
        "    tick_marks = np.arange(len(classes))\n",
        "    plt.xticks(tick_marks, classes, rotation=45)\n",
        "    plt.yticks(tick_marks, classes)\n",
        "\n",
        "    if normalize:\n",
        "        cm = cm.astype('float') / cm.sum(axis=1)[:, np.newaxis]\n",
        "        cm = np.around(cm, decimals=2)\n",
        "        cm[np.isnan(cm)] = 0.0\n",
        "        print(\"Normalized confusion matrix\")\n",
        "    else:\n",
        "        print('Confusion matrix, without normalization')\n",
        "    thresh = cm.max() / 2.\n",
        "    for i, j in itertools.product(range(cm.shape[0]), range(cm.shape[1])):\n",
        "        plt.text(j, i, cm[i, j],\n",
        "                 horizontalalignment=\"center\",\n",
        "                 color=\"white\" if cm[i, j] > thresh else \"black\")\n",
        "    plt.tight_layout()\n",
        "    plt.ylabel('True label')\n",
        "    plt.xlabel('Predicted label')"
      ],
      "execution_count": null,
      "outputs": []
    },
    {
      "cell_type": "code",
      "metadata": {
        "colab": {
          "base_uri": "https://localhost:8080/"
        },
        "id": "rn6sPumMzYx1",
        "outputId": "e844369c-c140-4d6a-a2d3-2430a95162cb"
      },
      "source": [
        "from keras.models import load_model\n",
        "\n",
        "# load model\n",
        "model = load_model('/content/rnn_model.h5')\n",
        "\n",
        "score = model.evaluate(padSequenceTest,y3, verbose=0)\n",
        "print(\"%s: %.2f%%\" % (model.metrics_names[1], score[1]*100))"
      ],
      "execution_count": null,
      "outputs": [
        {
          "output_type": "stream",
          "text": [
            "WARNING:tensorflow:Layer lstm will not use cuDNN kernel since it doesn't meet the cuDNN kernel criteria. It will use generic GPU kernel as fallback when running on GPU\n",
            "WARNING:tensorflow:Layer lstm will not use cuDNN kernel since it doesn't meet the cuDNN kernel criteria. It will use generic GPU kernel as fallback when running on GPU\n",
            "WARNING:tensorflow:Layer lstm will not use cuDNN kernel since it doesn't meet the cuDNN kernel criteria. It will use generic GPU kernel as fallback when running on GPU\n",
            "accuracy: 66.02%\n"
          ],
          "name": "stdout"
        }
      ]
    },
    {
      "cell_type": "code",
      "metadata": {
        "colab": {
          "base_uri": "https://localhost:8080/"
        },
        "id": "kCI5Yw32zc-K",
        "outputId": "ac01efc8-595a-4a0a-bc35-b0a1e78afe77"
      },
      "source": [
        "from sklearn.metrics import classification_report, confusion_matrix\n",
        "Y_pred = model.predict(x_test)\n",
        "y_pred = np.argmax(Y_pred, axis=1)\n",
        "ytest=np.argmax(y3,axis=1)\n",
        "print('Confusion Matrix')\n",
        "cm=confusion_matrix(ytest, y_pred)\n",
        "print(confusion_matrix(ytest, y_pred))"
      ],
      "execution_count": null,
      "outputs": [
        {
          "output_type": "stream",
          "text": [
            "Confusion Matrix\n",
            "[[580 297  23]\n",
            " [190 715 191]\n",
            " [ 24 292 681]]\n"
          ],
          "name": "stdout"
        }
      ]
    },
    {
      "cell_type": "code",
      "metadata": {
        "colab": {
          "base_uri": "https://localhost:8080/"
        },
        "id": "y_GZyJaJzhxP",
        "outputId": "4277b476-9873-4936-9fa2-22185e142e78"
      },
      "source": [
        "target_names = ['neutral','negative','positive']\n",
        "print(classification_report(ytest, y_pred, target_names=target_names))"
      ],
      "execution_count": null,
      "outputs": [
        {
          "output_type": "stream",
          "text": [
            "              precision    recall  f1-score   support\n",
            "\n",
            "     neutral       0.73      0.64      0.68       900\n",
            "    negative       0.55      0.65      0.60      1096\n",
            "    positive       0.76      0.68      0.72       997\n",
            "\n",
            "    accuracy                           0.66      2993\n",
            "   macro avg       0.68      0.66      0.67      2993\n",
            "weighted avg       0.67      0.66      0.66      2993\n",
            "\n"
          ],
          "name": "stdout"
        }
      ]
    },
    {
      "cell_type": "code",
      "metadata": {
        "colab": {
          "base_uri": "https://localhost:8080/",
          "height": 746
        },
        "id": "oEU6nLp_zxpa",
        "outputId": "62a7bfa5-ed53-49ae-ce63-c76a710bca98"
      },
      "source": [
        "import itertools\n",
        "plot_confusion_matrix(cm, target_names, title='Confusion Matrix')"
      ],
      "execution_count": null,
      "outputs": [
        {
          "output_type": "stream",
          "text": [
            "Normalized confusion matrix\n"
          ],
          "name": "stdout"
        },
        {
          "output_type": "display_data",
          "data": {
            "image/png": "[encoded data removed]",
            "text/plain": [
              "<Figure size 720x720 with 2 Axes>"
            ]
          },
          "metadata": {
            "tags": [],
            "needs_background": "light"
          }
        }
      ]
    },
    {
      "cell_type": "markdown",
      "metadata": {
        "id": "7rJfFTyj-yLO"
      },
      "source": [
        "# Semval results\n",
        "\n",
        "https://arxiv.org/pdf/2008.04277.pdf"
      ]
    },
    {
      "cell_type": "markdown",
      "metadata": {
        "id": "C3IN4FajkoIw"
      },
      "source": [
        "# New Section"
      ]
    },
    {
      "cell_type": "code",
      "metadata": {
        "id": "PaBvqff4kk8C"
      },
      "source": [
        ""
      ],
      "execution_count": null,
      "outputs": []
    },
    {
      "cell_type": "code",
      "metadata": {
        "id": "cGypgPza-0TJ"
      },
      "source": [
        ""
      ],
      "execution_count": null,
      "outputs": []
    }
  ]
}