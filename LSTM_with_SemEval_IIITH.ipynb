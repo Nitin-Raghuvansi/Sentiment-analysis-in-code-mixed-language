{
  "nbformat": 4,
  "nbformat_minor": 0,
  "metadata": {
    "colab": {
      "name": "LSTM_with_SemEval_IIITH.ipynb",
      "provenance": [],
      "collapsed_sections": [],
      "toc_visible": true
    },
    "kernelspec": {
      "name": "python3",
      "display_name": "Python 3"
    },
    "accelerator": "GPU"
  },
  "cells": [
    {
      "cell_type": "markdown",
      "metadata": {
        "id": "KMVbWpuq0ols"
      },
      "source": [
        "# Datasets collection \n",
        "## Main dataset\n",
        "- Semval dataset\n",
        "\n",
        "## Data for corpus\n",
        "1.  Tweeter Corpus POS: https://www.aclweb.org/anthology/W18-3503/\n",
        "2.  https://github.com/sakshigupta93/normalisation-dataset/blob/master/dataset_final.txt\n",
        "3. https://github.com/drimpossible/Sub-word-LSTM/blob/master/Data/IIITH_Codemixed.txt (https://www.aclweb.org/anthology/C16-1234.pdf)\n",
        "4. https://www.aclweb.org/anthology/W14-3914.pdf(check this out)"
      ]
    },
    {
      "cell_type": "code",
      "metadata": {
        "id": "Vapw3mvKmSWG"
      },
      "source": [
        "import pandas as pd\n",
        "import numpy as np"
      ],
      "execution_count": null,
      "outputs": []
    },
    {
      "cell_type": "code",
      "metadata": {
        "id": "5v0qP6bLaplx"
      },
      "source": [
        "#convert to sentances for corpus 1\n",
        "\n",
        "def read_POS_data(idGen,in_file):\n",
        "    data = []\n",
        "    with open(in_file) as f:\n",
        "        words = \" \"\n",
        "        cnt = 0\n",
        "        for line in f.readlines():\n",
        "            # print(line)\n",
        "            sp = line.strip().split('\\t')\n",
        "            if len(sp)<3:\n",
        "              vc = {\"id\":idGen+str(cnt),\"tweet\":words}\n",
        "              data.append(vc)\n",
        "              words = \"\"\n",
        "              cnt += 1\n",
        "            else:\n",
        "              words = words + sp[0] + \" \"\n",
        "        print(cnt)\n",
        "    return data \n",
        "\n",
        "def read_IIITH_DATA(in_file):\n",
        "    data = []\n",
        "    with open(in_file) as f:\n",
        "        words = \" \"\n",
        "        cnt = 0\n",
        "        for line in f.readlines():\n",
        "            sp = line.strip().split('\\t')\n",
        "            vc = {\"id\":sp[0],\"label\":sp[-1],\"tweet\":sp[1]}\n",
        "            data.append(vc);\n",
        "            cnt += 1\n",
        "           \n",
        "        print(cnt)\n",
        "    return data \n"
      ],
      "execution_count": null,
      "outputs": []
    },
    {
      "cell_type": "code",
      "metadata": {
        "colab": {
          "base_uri": "https://localhost:8080/"
        },
        "id": "DW2-cstlpXjL",
        "outputId": "7ea41457-62f1-4f0a-bb11-e90003ead7f7"
      },
      "source": [
        "datasetPath1 = \"/content/POS.tsv\"\n",
        "datasetPath2 = \"/content/dataset_final.txt\"\n",
        "\n",
        "corpus1 = read_POS_data(\"random1\",datasetPath1)[1:]\n",
        "corpus1 = pd.DataFrame(corpus1)\n",
        "print(\"Corpus 1: \",corpus1.head())\n",
        "\n",
        "corpus2 = read_POS_data(\"random2\",datasetPath2)[1:]\n",
        "corpus2 = pd.DataFrame(corpus2)\n",
        "print(\"Corpus 2: \",corpus2.head())\n",
        "\n",
        "\n"
      ],
      "execution_count": null,
      "outputs": [
        {
          "output_type": "stream",
          "text": [
            "1489\n",
            "Corpus 1:           id                                              tweet\n",
            "0  random11  @ncpspeaks former Gen . V P Malik aur DGMO Vin...\n",
            "1  random12  Anyone heard of hafiz saeed , salahuddin or ma...\n",
            "2  random13  @ArvindKejriwal Worldwide #SurgicalStrike vdo ...\n",
            "3  random14  RT @UsmanAQayyum : Pak : Acha Dikao Zara Saboo...\n",
            "4  random15  All Netas demanding proof of #SurgicalStrike ,...\n",
            "1446\n",
            "Corpus 2:           id                                              tweet\n",
            "0  random21                                Call kar leti hoon \n",
            "1  random22  Light hai abhi , I'll try attending one myself . \n",
            "2  random23            agar attendance lag gayi toh badhiya . \n",
            "3  random24              main kal aayungi shaadi mei directly \n",
            "4  random25  room mei shayad kal bhi nahi stay karungi , ca...\n"
          ],
          "name": "stdout"
        }
      ]
    },
    {
      "cell_type": "code",
      "metadata": {
        "colab": {
          "base_uri": "https://localhost:8080/"
        },
        "id": "stuu9P9r03Ef",
        "outputId": "edeb296e-2de3-4bac-c844-33306742d5df"
      },
      "source": [
        "corpus = pd.concat([corpus1,corpus2])\n",
        "print(len(corpus))\n"
      ],
      "execution_count": null,
      "outputs": [
        {
          "output_type": "stream",
          "text": [
            "2933\n"
          ],
          "name": "stdout"
        }
      ]
    },
    {
      "cell_type": "code",
      "metadata": {
        "colab": {
          "base_uri": "https://localhost:8080/",
          "height": 212
        },
        "id": "YSvh3EPzqHQP",
        "outputId": "7cd2b5ba-bf1c-4a33-8dbb-ecf38e65afe6"
      },
      "source": [
        "#for dataset 3\n",
        "datasetPath = \"/content/IIITH_Codemixed.txt\"\n",
        "Train = read_IIITH_DATA(datasetPath)[1:]\n",
        "Train = pd.DataFrame(Train)\n",
        "Train.head()\n"
      ],
      "execution_count": null,
      "outputs": [
        {
          "output_type": "stream",
          "text": [
            "3879\n"
          ],
          "name": "stdout"
        },
        {
          "output_type": "execute_result",
          "data": {
            "text/html": [
              "<div>\n",
              "<style scoped>\n",
              "    .dataframe tbody tr th:only-of-type {\n",
              "        vertical-align: middle;\n",
              "    }\n",
              "\n",
              "    .dataframe tbody tr th {\n",
              "        vertical-align: top;\n",
              "    }\n",
              "\n",
              "    .dataframe thead th {\n",
              "        text-align: right;\n",
              "    }\n",
              "</style>\n",
              "<table border=\"1\" class=\"dataframe\">\n",
              "  <thead>\n",
              "    <tr style=\"text-align: right;\">\n",
              "      <th></th>\n",
              "      <th>id</th>\n",
              "      <th>label</th>\n",
              "      <th>tweet</th>\n",
              "    </tr>\n",
              "  </thead>\n",
              "  <tbody>\n",
              "    <tr>\n",
              "      <th>0</th>\n",
              "      <td>3</td>\n",
              "      <td>2</td>\n",
              "      <td>Love u sir love u soo much urs I'ts beautyful ...</td>\n",
              "    </tr>\n",
              "    <tr>\n",
              "      <th>1</th>\n",
              "      <td>4</td>\n",
              "      <td>1</td>\n",
              "      <td>Arae sur jee pahelae hamare bharat ke bachho k...</td>\n",
              "    </tr>\n",
              "    <tr>\n",
              "      <th>2</th>\n",
              "      <td>5</td>\n",
              "      <td>2</td>\n",
              "      <td>Wah! Jitni sundar geet ke bhao hain utnihi sun...</td>\n",
              "    </tr>\n",
              "    <tr>\n",
              "      <th>3</th>\n",
              "      <td>8</td>\n",
              "      <td>2</td>\n",
              "      <td>Sundar ekdam sahi Gaya Hua gana.chhotisi gudiy...</td>\n",
              "    </tr>\n",
              "    <tr>\n",
              "      <th>4</th>\n",
              "      <td>9</td>\n",
              "      <td>2</td>\n",
              "      <td>Wao lata mangekar</td>\n",
              "    </tr>\n",
              "  </tbody>\n",
              "</table>\n",
              "</div>"
            ],
            "text/plain": [
              "  id label                                              tweet\n",
              "0  3     2  Love u sir love u soo much urs I'ts beautyful ...\n",
              "1  4     1  Arae sur jee pahelae hamare bharat ke bachho k...\n",
              "2  5     2  Wah! Jitni sundar geet ke bhao hain utnihi sun...\n",
              "3  8     2  Sundar ekdam sahi Gaya Hua gana.chhotisi gudiy...\n",
              "4  9     2                                  Wao lata mangekar"
            ]
          },
          "metadata": {
            "tags": []
          },
          "execution_count": 11
        }
      ]
    },
    {
      "cell_type": "code",
      "metadata": {
        "colab": {
          "base_uri": "https://localhost:8080/"
        },
        "id": "ppbU0fsf1oLB",
        "outputId": "fd347cee-1909-49c1-a10f-5466da4ccd26"
      },
      "source": [
        "print(Train.isnull().values.any())"
      ],
      "execution_count": null,
      "outputs": [
        {
          "output_type": "stream",
          "text": [
            "False\n"
          ],
          "name": "stdout"
        }
      ]
    },
    {
      "cell_type": "code",
      "metadata": {
        "colab": {
          "base_uri": "https://localhost:8080/",
          "height": 195
        },
        "id": "_lh6aJkRvkrI",
        "outputId": "efd5cdf0-05f9-4c7e-c89e-dac11fa2c9b1"
      },
      "source": [
        "#change labels\n",
        "Train[\"label\"] = Train[\"label\"].map({\"0\":\"negative\",\"1\":\"neutral\",\"2\":\"positive\"})\n",
        "Train.head()"
      ],
      "execution_count": null,
      "outputs": [
        {
          "output_type": "execute_result",
          "data": {
            "text/html": [
              "<div>\n",
              "<style scoped>\n",
              "    .dataframe tbody tr th:only-of-type {\n",
              "        vertical-align: middle;\n",
              "    }\n",
              "\n",
              "    .dataframe tbody tr th {\n",
              "        vertical-align: top;\n",
              "    }\n",
              "\n",
              "    .dataframe thead th {\n",
              "        text-align: right;\n",
              "    }\n",
              "</style>\n",
              "<table border=\"1\" class=\"dataframe\">\n",
              "  <thead>\n",
              "    <tr style=\"text-align: right;\">\n",
              "      <th></th>\n",
              "      <th>id</th>\n",
              "      <th>label</th>\n",
              "      <th>tweet</th>\n",
              "    </tr>\n",
              "  </thead>\n",
              "  <tbody>\n",
              "    <tr>\n",
              "      <th>0</th>\n",
              "      <td>3</td>\n",
              "      <td>positive</td>\n",
              "      <td>Love u sir love u soo much urs I'ts beautyful ...</td>\n",
              "    </tr>\n",
              "    <tr>\n",
              "      <th>1</th>\n",
              "      <td>4</td>\n",
              "      <td>neutral</td>\n",
              "      <td>Arae sur jee pahelae hamare bharat ke bachho k...</td>\n",
              "    </tr>\n",
              "    <tr>\n",
              "      <th>2</th>\n",
              "      <td>5</td>\n",
              "      <td>positive</td>\n",
              "      <td>Wah! Jitni sundar geet ke bhao hain utnihi sun...</td>\n",
              "    </tr>\n",
              "    <tr>\n",
              "      <th>3</th>\n",
              "      <td>8</td>\n",
              "      <td>positive</td>\n",
              "      <td>Sundar ekdam sahi Gaya Hua gana.chhotisi gudiy...</td>\n",
              "    </tr>\n",
              "    <tr>\n",
              "      <th>4</th>\n",
              "      <td>9</td>\n",
              "      <td>positive</td>\n",
              "      <td>Wao lata mangekar</td>\n",
              "    </tr>\n",
              "  </tbody>\n",
              "</table>\n",
              "</div>"
            ],
            "text/plain": [
              "  id     label                                              tweet\n",
              "0  3  positive  Love u sir love u soo much urs I'ts beautyful ...\n",
              "1  4   neutral  Arae sur jee pahelae hamare bharat ke bachho k...\n",
              "2  5  positive  Wah! Jitni sundar geet ke bhao hain utnihi sun...\n",
              "3  8  positive  Sundar ekdam sahi Gaya Hua gana.chhotisi gudiy...\n",
              "4  9  positive                                  Wao lata mangekar"
            ]
          },
          "metadata": {
            "tags": []
          },
          "execution_count": 13
        }
      ]
    },
    {
      "cell_type": "code",
      "metadata": {
        "id": "p2TLgnY04Xlp"
      },
      "source": [
        "#convert to sentances\n",
        "\n",
        "def read_conll(in_file, lowercase=False, max_example=None):\n",
        "    data = []\n",
        "    with open(in_file) as f:\n",
        "        words = \" \"\n",
        "        id = \"\";\n",
        "        label = \"\";\n",
        "        for line in f.readlines():\n",
        "            sp = line.strip().split('\\t')\n",
        "            if sp[0]==\"meta\" and len(sp)>2:\n",
        "              vc = {\"id\":id,\"label\":label,\"tweet\":words}\n",
        "              data.append(vc);\n",
        "              words = \" \"\n",
        "              id = sp[1]\n",
        "              label = sp[2]\n",
        "            elif len(sp)>1:\n",
        "              if sp[1]!=\"O\":\n",
        "                words = words + sp[0] +\" \" #+\"(\"+sp[1]+\") \"\n",
        "        vc = {\"id\":id,\"label\":label,\"tweet\":words}\n",
        "        data.append(vc);\n",
        "    return data \n",
        "\n",
        "def read_conll_test(in_file, lowercase=False, max_example=None):\n",
        "    data = []\n",
        "    with open(in_file) as f:\n",
        "        words = \" \"\n",
        "        id = \"\";\n",
        "        label = \"\";\n",
        "        for line in f.readlines():\n",
        "            sp = line.strip().split('\\t')\n",
        "            if sp[0]==\"meta\":\n",
        "              vc = {\"id\":id,\"tweet\":words}\n",
        "              data.append(vc);\n",
        "              words = \" \"\n",
        "              id = sp[1]\n",
        "            elif len(sp)>1:\n",
        "              if sp[1]!=\"O\":\n",
        "                words = words + sp[0] +\" \" # +\"(\"+sp[1]+\") \"\n",
        "        vc = {\"id\":id,\"tweet\":words}\n",
        "        data.append(vc);\n",
        "    return data "
      ],
      "execution_count": null,
      "outputs": []
    },
    {
      "cell_type": "code",
      "metadata": {
        "colab": {
          "base_uri": "https://localhost:8080/",
          "height": 195
        },
        "id": "siecocjG-Y_a",
        "outputId": "322c56e6-df7d-4b57-e9da-91cda99aeea2"
      },
      "source": [
        "dataset = \"/content/test.txt\"\n",
        "test = read_conll_test(dataset)[1:]\n",
        "test = pd.DataFrame(test)\n",
        "test.head()\n"
      ],
      "execution_count": null,
      "outputs": [
        {
          "output_type": "execute_result",
          "data": {
            "text/html": [
              "<div>\n",
              "<style scoped>\n",
              "    .dataframe tbody tr th:only-of-type {\n",
              "        vertical-align: middle;\n",
              "    }\n",
              "\n",
              "    .dataframe tbody tr th {\n",
              "        vertical-align: top;\n",
              "    }\n",
              "\n",
              "    .dataframe thead th {\n",
              "        text-align: right;\n",
              "    }\n",
              "</style>\n",
              "<table border=\"1\" class=\"dataframe\">\n",
              "  <thead>\n",
              "    <tr style=\"text-align: right;\">\n",
              "      <th></th>\n",
              "      <th>id</th>\n",
              "      <th>tweet</th>\n",
              "    </tr>\n",
              "  </thead>\n",
              "  <tbody>\n",
              "    <tr>\n",
              "      <th>0</th>\n",
              "      <td>20803</td>\n",
              "      <td>454dkhan Heisunberg Agr kse ko itni important...</td>\n",
              "    </tr>\n",
              "    <tr>\n",
              "      <th>1</th>\n",
              "      <td>20187</td>\n",
              "      <td>logon ko alloo pyaz tomator me toh allah pak ...</td>\n",
              "    </tr>\n",
              "    <tr>\n",
              "      <th>2</th>\n",
              "      <td>20953</td>\n",
              "      <td>LambaAlka Wafadaar bane rahane ka nayab tarik...</td>\n",
              "    </tr>\n",
              "    <tr>\n",
              "      <th>3</th>\n",
              "      <td>13777</td>\n",
              "      <td>varnishant narendramodi Chup bhosdike He has ...</td>\n",
              "    </tr>\n",
              "    <tr>\n",
              "      <th>4</th>\n",
              "      <td>20990</td>\n",
              "      <td>RT HardeepSPuri Praise the Great Giver who gi...</td>\n",
              "    </tr>\n",
              "  </tbody>\n",
              "</table>\n",
              "</div>"
            ],
            "text/plain": [
              "      id                                              tweet\n",
              "0  20803   454dkhan Heisunberg Agr kse ko itni important...\n",
              "1  20187   logon ko alloo pyaz tomator me toh allah pak ...\n",
              "2  20953   LambaAlka Wafadaar bane rahane ka nayab tarik...\n",
              "3  13777   varnishant narendramodi Chup bhosdike He has ...\n",
              "4  20990   RT HardeepSPuri Praise the Great Giver who gi..."
            ]
          },
          "metadata": {
            "tags": []
          },
          "execution_count": 15
        }
      ]
    },
    {
      "cell_type": "code",
      "metadata": {
        "colab": {
          "base_uri": "https://localhost:8080/",
          "height": 195
        },
        "id": "pbykttluAm46",
        "outputId": "89ec29b6-bc65-4668-f733-a251271a2a67"
      },
      "source": [
        "labels = pd.read_csv(\"/content/test_labels.txt\")\n",
        "labels = pd.DataFrame(labels)\n",
        "labels.columns=[\"id\",\"label\"] \n",
        "labels['id']=labels['id'].astype(str)\n",
        "labels.head()"
      ],
      "execution_count": null,
      "outputs": [
        {
          "output_type": "execute_result",
          "data": {
            "text/html": [
              "<div>\n",
              "<style scoped>\n",
              "    .dataframe tbody tr th:only-of-type {\n",
              "        vertical-align: middle;\n",
              "    }\n",
              "\n",
              "    .dataframe tbody tr th {\n",
              "        vertical-align: top;\n",
              "    }\n",
              "\n",
              "    .dataframe thead th {\n",
              "        text-align: right;\n",
              "    }\n",
              "</style>\n",
              "<table border=\"1\" class=\"dataframe\">\n",
              "  <thead>\n",
              "    <tr style=\"text-align: right;\">\n",
              "      <th></th>\n",
              "      <th>id</th>\n",
              "      <th>label</th>\n",
              "    </tr>\n",
              "  </thead>\n",
              "  <tbody>\n",
              "    <tr>\n",
              "      <th>0</th>\n",
              "      <td>20803</td>\n",
              "      <td>neutral</td>\n",
              "    </tr>\n",
              "    <tr>\n",
              "      <th>1</th>\n",
              "      <td>20187</td>\n",
              "      <td>neutral</td>\n",
              "    </tr>\n",
              "    <tr>\n",
              "      <th>2</th>\n",
              "      <td>20953</td>\n",
              "      <td>neutral</td>\n",
              "    </tr>\n",
              "    <tr>\n",
              "      <th>3</th>\n",
              "      <td>13777</td>\n",
              "      <td>negative</td>\n",
              "    </tr>\n",
              "    <tr>\n",
              "      <th>4</th>\n",
              "      <td>20990</td>\n",
              "      <td>positive</td>\n",
              "    </tr>\n",
              "  </tbody>\n",
              "</table>\n",
              "</div>"
            ],
            "text/plain": [
              "      id     label\n",
              "0  20803   neutral\n",
              "1  20187   neutral\n",
              "2  20953   neutral\n",
              "3  13777  negative\n",
              "4  20990  positive"
            ]
          },
          "metadata": {
            "tags": []
          },
          "execution_count": 16
        }
      ]
    },
    {
      "cell_type": "code",
      "metadata": {
        "colab": {
          "base_uri": "https://localhost:8080/",
          "height": 195
        },
        "id": "N_u9jnE7AyaH",
        "outputId": "a5d24809-0521-4831-e353-9c7266493d38"
      },
      "source": [
        "# test = pd.concat([test, labels], axis = 1)\n",
        "test = pd.merge(test, labels, how='inner', on = 'id')\n",
        "test.head()"
      ],
      "execution_count": null,
      "outputs": [
        {
          "output_type": "execute_result",
          "data": {
            "text/html": [
              "<div>\n",
              "<style scoped>\n",
              "    .dataframe tbody tr th:only-of-type {\n",
              "        vertical-align: middle;\n",
              "    }\n",
              "\n",
              "    .dataframe tbody tr th {\n",
              "        vertical-align: top;\n",
              "    }\n",
              "\n",
              "    .dataframe thead th {\n",
              "        text-align: right;\n",
              "    }\n",
              "</style>\n",
              "<table border=\"1\" class=\"dataframe\">\n",
              "  <thead>\n",
              "    <tr style=\"text-align: right;\">\n",
              "      <th></th>\n",
              "      <th>id</th>\n",
              "      <th>tweet</th>\n",
              "      <th>label</th>\n",
              "    </tr>\n",
              "  </thead>\n",
              "  <tbody>\n",
              "    <tr>\n",
              "      <th>0</th>\n",
              "      <td>20803</td>\n",
              "      <td>454dkhan Heisunberg Agr kse ko itni important...</td>\n",
              "      <td>neutral</td>\n",
              "    </tr>\n",
              "    <tr>\n",
              "      <th>1</th>\n",
              "      <td>20187</td>\n",
              "      <td>logon ko alloo pyaz tomator me toh allah pak ...</td>\n",
              "      <td>neutral</td>\n",
              "    </tr>\n",
              "    <tr>\n",
              "      <th>2</th>\n",
              "      <td>20953</td>\n",
              "      <td>LambaAlka Wafadaar bane rahane ka nayab tarik...</td>\n",
              "      <td>neutral</td>\n",
              "    </tr>\n",
              "    <tr>\n",
              "      <th>3</th>\n",
              "      <td>13777</td>\n",
              "      <td>varnishant narendramodi Chup bhosdike He has ...</td>\n",
              "      <td>negative</td>\n",
              "    </tr>\n",
              "    <tr>\n",
              "      <th>4</th>\n",
              "      <td>20990</td>\n",
              "      <td>RT HardeepSPuri Praise the Great Giver who gi...</td>\n",
              "      <td>positive</td>\n",
              "    </tr>\n",
              "  </tbody>\n",
              "</table>\n",
              "</div>"
            ],
            "text/plain": [
              "      id                                              tweet     label\n",
              "0  20803   454dkhan Heisunberg Agr kse ko itni important...   neutral\n",
              "1  20187   logon ko alloo pyaz tomator me toh allah pak ...   neutral\n",
              "2  20953   LambaAlka Wafadaar bane rahane ka nayab tarik...   neutral\n",
              "3  13777   varnishant narendramodi Chup bhosdike He has ...  negative\n",
              "4  20990   RT HardeepSPuri Praise the Great Giver who gi...  positive"
            ]
          },
          "metadata": {
            "tags": []
          },
          "execution_count": 17
        }
      ]
    },
    {
      "cell_type": "code",
      "metadata": {
        "colab": {
          "base_uri": "https://localhost:8080/",
          "height": 195
        },
        "id": "QDMN__nq51JF",
        "outputId": "22c565d3-5c4d-49f3-bebd-be3e08333fa7"
      },
      "source": [
        "import pandas as pd\n",
        "dataset1 = '/content/train.txt'\n",
        "dataset2 = '/content/valid.txt'\n",
        "\n",
        "train = read_conll(dataset1)[1:];\n",
        "valid = read_conll(dataset2)[1:];\n",
        "train = pd.DataFrame(train)\n",
        "valid = pd.DataFrame(valid)\n",
        "\n",
        "valid.head()"
      ],
      "execution_count": null,
      "outputs": [
        {
          "output_type": "execute_result",
          "data": {
            "text/html": [
              "<div>\n",
              "<style scoped>\n",
              "    .dataframe tbody tr th:only-of-type {\n",
              "        vertical-align: middle;\n",
              "    }\n",
              "\n",
              "    .dataframe tbody tr th {\n",
              "        vertical-align: top;\n",
              "    }\n",
              "\n",
              "    .dataframe thead th {\n",
              "        text-align: right;\n",
              "    }\n",
              "</style>\n",
              "<table border=\"1\" class=\"dataframe\">\n",
              "  <thead>\n",
              "    <tr style=\"text-align: right;\">\n",
              "      <th></th>\n",
              "      <th>id</th>\n",
              "      <th>label</th>\n",
              "      <th>tweet</th>\n",
              "    </tr>\n",
              "  </thead>\n",
              "  <tbody>\n",
              "    <tr>\n",
              "      <th>0</th>\n",
              "      <td>30258</td>\n",
              "      <td>positive</td>\n",
              "      <td>prahladspatel modi mantrimandal may samil hon...</td>\n",
              "    </tr>\n",
              "    <tr>\n",
              "      <th>1</th>\n",
              "      <td>16648</td>\n",
              "      <td>negative</td>\n",
              "      <td>bkunalraj TajinderBagga NikhilJakhar14 JammuP...</td>\n",
              "    </tr>\n",
              "    <tr>\n",
              "      <th>2</th>\n",
              "      <td>28511</td>\n",
              "      <td>negative</td>\n",
              "      <td>waglenikhil U saw caste and religion in them ...</td>\n",
              "    </tr>\n",
              "    <tr>\n",
              "      <th>3</th>\n",
              "      <td>10466</td>\n",
              "      <td>neutral</td>\n",
              "      <td>DelhiPolice sir local police station pe compl...</td>\n",
              "    </tr>\n",
              "    <tr>\n",
              "      <th>4</th>\n",
              "      <td>19266</td>\n",
              "      <td>positive</td>\n",
              "      <td>Ve Maahi song from Kesari is current favourit...</td>\n",
              "    </tr>\n",
              "  </tbody>\n",
              "</table>\n",
              "</div>"
            ],
            "text/plain": [
              "      id     label                                              tweet\n",
              "0  30258  positive   prahladspatel modi mantrimandal may samil hon...\n",
              "1  16648  negative   bkunalraj TajinderBagga NikhilJakhar14 JammuP...\n",
              "2  28511  negative   waglenikhil U saw caste and religion in them ...\n",
              "3  10466   neutral   DelhiPolice sir local police station pe compl...\n",
              "4  19266  positive   Ve Maahi song from Kesari is current favourit..."
            ]
          },
          "metadata": {
            "tags": []
          },
          "execution_count": 18
        }
      ]
    },
    {
      "cell_type": "code",
      "metadata": {
        "colab": {
          "base_uri": "https://localhost:8080/"
        },
        "id": "GdyulnVIP8pr",
        "outputId": "eee092a6-188b-4346-ba1f-17025104d5cd"
      },
      "source": [
        "print(train['tweet'][0])"
      ],
      "execution_count": null,
      "outputs": [
        {
          "output_type": "stream",
          "text": [
            " nen vist bolest vztek smutek zmatek osam lost beznad j a nakonec jen klid Asi takhle vypad m j life \n"
          ],
          "name": "stdout"
        }
      ]
    },
    {
      "cell_type": "code",
      "metadata": {
        "colab": {
          "base_uri": "https://localhost:8080/"
        },
        "id": "SU90QuNGupFx",
        "outputId": "bace7db3-fa29-449e-dfd0-42cd192d4097"
      },
      "source": [
        "import numpy as np\n",
        "\n",
        "#split the IIITH data\n",
        "print(\"ToTOAL \" ,len(Train))\n",
        "\n",
        "msk = np.random.rand(len(Train)) < 0.8\n",
        "df1 = Train[msk]\n",
        "df2 = Train[~msk]\n",
        "print(\"TRAIN\", len(df1),\" Valid: \",len(df2))"
      ],
      "execution_count": null,
      "outputs": [
        {
          "output_type": "stream",
          "text": [
            "ToTOAL  3878\n",
            "TRAIN 3123  Valid:  755\n"
          ],
          "name": "stdout"
        }
      ]
    },
    {
      "cell_type": "code",
      "metadata": {
        "colab": {
          "base_uri": "https://localhost:8080/"
        },
        "id": "qv6fYRmoxh3Z",
        "outputId": "efb40a23-4945-4007-8a79-9aa273388d4a"
      },
      "source": [
        "# MERGE the IIITH and semval\n",
        "train = pd.concat([train,df1])\n",
        "valid = pd.concat([valid,df2])\n",
        "print(\"TRAIN\", len(train),\" Valid: \",len(valid))"
      ],
      "execution_count": null,
      "outputs": [
        {
          "output_type": "stream",
          "text": [
            "TRAIN 17123  Valid:  3755\n"
          ],
          "name": "stdout"
        }
      ]
    },
    {
      "cell_type": "code",
      "metadata": {
        "id": "RwsamtVYInrL"
      },
      "source": [
        "train.to_csv(\"Train.csv\")\n",
        "valid.to_csv(\"Valid.csv\")\n",
        "test.to_csv(\"Test.csv\")\n"
      ],
      "execution_count": null,
      "outputs": []
    },
    {
      "cell_type": "code",
      "metadata": {
        "id": "g_L5A-i8T2xl"
      },
      "source": [
        "Trainx = pd.read_csv(\"/content/Train.csv\")\n",
        "Validx = pd.read_csv(\"/content/Valid.csv\")\n",
        "Testx = pd.read_csv(\"/content/Test.csv\")"
      ],
      "execution_count": null,
      "outputs": []
    },
    {
      "cell_type": "code",
      "metadata": {
        "id": "byTn19GUKM14"
      },
      "source": [
        "Trainx = Trainx.reset_index()\n",
        "Validx = Validx.reset_index()\n",
        "Testx = Testx.reset_index()"
      ],
      "execution_count": null,
      "outputs": []
    },
    {
      "cell_type": "code",
      "metadata": {
        "colab": {
          "base_uri": "https://localhost:8080/"
        },
        "id": "le_T3rbiSq7x",
        "outputId": "0c1c3f5e-c697-4837-a99c-fe00816140ea"
      },
      "source": [
        "print(Trainx['tweet'][0])\n",
        "print(Testx.isna().any().any())"
      ],
      "execution_count": null,
      "outputs": [
        {
          "output_type": "stream",
          "text": [
            " nen vist bolest vztek smutek zmatek osam lost beznad j a nakonec jen klid Asi takhle vypad m j life \n",
            "False\n"
          ],
          "name": "stdout"
        }
      ]
    },
    {
      "cell_type": "code",
      "metadata": {
        "id": "lliGOKbAYAMs"
      },
      "source": [
        "tx=Trainx['tweet']\n",
        "ty = Trainx['label']\n",
        "vx = Validx['tweet']\n",
        "vy = Validx['label']\n",
        "tex = Testx['tweet']\n",
        "tey = Testx['label']"
      ],
      "execution_count": null,
      "outputs": []
    },
    {
      "cell_type": "code",
      "metadata": {
        "colab": {
          "base_uri": "https://localhost:8080/"
        },
        "id": "D6yzBkZvX-P2",
        "outputId": "23c15b9d-4ff7-4052-c330-d16c060cc05a"
      },
      "source": [
        "import re\n",
        "import nltk\n",
        "from nltk.corpus import stopwords\n",
        "nltk.download('stopwords')\n",
        "list1 =[]\n",
        "for i in range(0, len(tx)):\n",
        "    title = tx[i]\n",
        "    \n",
        "    if i==1560:\n",
        "        print(title)\n",
        "    title = re.sub(\"@ [\\w]+\",'',title)\n",
        "    title=re.sub(r'http[s]?.*$', '', title)\n",
        "    \n",
        "    title = re.sub('([^A-Za-z \\t])|(\\w+:\\/\\/\\S+)', '', title)\n",
        "    if i==1560:\n",
        "        print(title)\n",
        "    title = title.lower()\n",
        "    title = title.split()\n",
        "    title = [word for word in title if not word in stopwords.words('english')]  \n",
        "    title = ' '.join(title)\n",
        "    list1.append(title)\n",
        "    "
      ],
      "execution_count": null,
      "outputs": [
        {
          "output_type": "stream",
          "text": [
            "[nltk_data] Downloading package stopwords to /root/nltk_data...\n",
            "[nltk_data]   Unzipping corpora/stopwords.zip.\n",
            " RT Rahul31316222 https t co BfQUHJIB7C Gud nyt guys with his emotional song jise sunkar sari tension chli jayegi only mom ko hug krn \n",
            " RT Rahul \n"
          ],
          "name": "stdout"
        }
      ]
    },
    {
      "cell_type": "code",
      "metadata": {
        "id": "W2yur_n1cLb5"
      },
      "source": [
        "list2 =[]\n",
        "for i in range(0, len(vx)):\n",
        "    title = vx[i]\n",
        "    title = re.sub(\"@ [\\w]+\",'',title)\n",
        "    title=re.sub(r'http[s]?.*$', '', title)    \n",
        "    title = re.sub('([^A-Za-z \\t])|(\\w+:\\/\\/\\S+)', '', title)\n",
        "\n",
        "    title = title.lower()\n",
        "    title = title.split()\n",
        "    title = [word for word in title if not word in stopwords.words('english')]  \n",
        "    title = ' '.join(title)\n",
        "    list2.append(title)\n",
        "\n",
        "list3 =[]\n",
        "for i in range(0, len(tex)):\n",
        "    title = tex[i]\n",
        "    title = re.sub(\"@ [\\w]+\",'',title)\n",
        "    title=re.sub(r'http[s]?.*$', '', title)    \n",
        "    title = re.sub('([^A-Za-z \\t])|(\\w+:\\/\\/\\S+)', '', title)\n",
        "\n",
        "    title = title.lower()\n",
        "    title = title.split()\n",
        "    title = [word for word in title if not word in stopwords.words('english')]  \n",
        "    title = ' '.join(title)\n",
        "    list3.append(title)\n"
      ],
      "execution_count": null,
      "outputs": []
    },
    {
      "cell_type": "code",
      "metadata": {
        "colab": {
          "base_uri": "https://localhost:8080/"
        },
        "id": "7-HRoWWHZ2c7",
        "outputId": "cace14f3-60b3-4ab7-fbed-0d362f420bce"
      },
      "source": [
        "\n",
        "print(list1[0])\n",
        "print(list2[0])\n",
        "print(list3[0])\n",
        "print(len(list1))\n",
        "print(len(ty))\n",
        "print(len(list2))\n",
        "print(len(vy))\n",
        "print(len(list3))\n",
        "print(len(tey))"
      ],
      "execution_count": null,
      "outputs": [
        {
          "output_type": "stream",
          "text": [
            "nen vist bolest vztek smutek zmatek osam lost beznad j nakonec jen klid asi takhle vypad j life\n",
            "prahladspatel modi mantrimandal may samil honay par badhai narmaday har\n",
            "dkhan heisunberg agr kse ko itni importantce chaeay ni tou\n",
            "17123\n",
            "17123\n",
            "3755\n",
            "3755\n",
            "3000\n",
            "3000\n"
          ],
          "name": "stdout"
        }
      ]
    },
    {
      "cell_type": "code",
      "metadata": {
        "id": "SIN654mNeF4Q"
      },
      "source": [
        "t1 = []\n",
        "l1 = []\n",
        "t2 = []\n",
        "l2 = []\n",
        "t3 = []\n",
        "l3 = []\n",
        "for i in range(0,len(list1)):\n",
        "    title = list1[i].split()    \n",
        "    if len(title)>3:\n",
        "        t1.append(list1[i])\n",
        "        l1.append(ty[i])\n",
        "for i in range(0,len(list2)):\n",
        "    title = list2[i].split()    \n",
        "    if len(title)>3:\n",
        "        t2.append(list2[i])\n",
        "        l2.append(vy[i])\n",
        "for i in range(0,len(list3)):\n",
        "    title = list3[i].split()    \n",
        "    if len(title)>3:\n",
        "        t3.append(list3[i])\n",
        "        l3.append(tey[i])"
      ],
      "execution_count": null,
      "outputs": []
    },
    {
      "cell_type": "code",
      "metadata": {
        "colab": {
          "base_uri": "https://localhost:8080/"
        },
        "id": "93ScQWi9fDVX",
        "outputId": "b4af6bdc-4657-4d3c-dbf0-22ac5a41fac8"
      },
      "source": [
        "print(len(t1))\n",
        "print(len(l1))\n",
        "print(len(t2))\n",
        "print(len(l2))\n",
        "print(len(t3))\n",
        "print(len(l3))"
      ],
      "execution_count": null,
      "outputs": [
        {
          "output_type": "stream",
          "text": [
            "16658\n",
            "16658\n",
            "3654\n",
            "3654\n",
            "2993\n",
            "2993\n"
          ],
          "name": "stdout"
        }
      ]
    },
    {
      "cell_type": "code",
      "metadata": {
        "colab": {
          "base_uri": "https://localhost:8080/"
        },
        "id": "jEU2AWQNfz0m",
        "outputId": "160edfd1-ae1a-43de-dea1-9ac2557f76cc"
      },
      "source": [
        "dict = {}\n",
        "for i in range(0, len(t1)):\n",
        "    x = t1[i].split()\n",
        "    for words in x:\n",
        "        if words in dict:   \n",
        "        # If the word exists in dictionary then simply increase its count           \n",
        "            dict[words] += 1             \n",
        "        else:  \n",
        "        # If the word does not exists in dictionary update the dictionary and make its count 1   \n",
        "            dict.update({words: 1}) \n",
        "\n",
        "voc_size = len(dict) \n",
        "\n",
        "print(voc_size)\n",
        "maxSentenceLength = max([len(i) for i in t1])\n",
        "print(maxSentenceLength)"
      ],
      "execution_count": null,
      "outputs": [
        {
          "output_type": "stream",
          "text": [
            "41509\n",
            "416\n"
          ],
          "name": "stdout"
        }
      ]
    },
    {
      "cell_type": "code",
      "metadata": {
        "id": "TbJtubbtgjLN"
      },
      "source": [
        "from keras.preprocessing.text import Tokenizer\n",
        "from keras.preprocessing.sequence import pad_sequences\n",
        "from keras.utils import to_categorical\n",
        "from keras.utils import plot_model\n",
        "from keras.models import Model,Sequential\n",
        "from keras.layers import Input\n",
        "from keras.layers import Dense\n",
        "from keras.layers import LSTM\n",
        "from keras.layers import Embedding\n",
        "from keras.layers import Dropout,SpatialDropout1D\n",
        "from keras.layers.merge import add\n",
        "from keras.callbacks import ModelCheckpoint\n",
        "from keras.optimizers import Adam,SGD,RMSprop"
      ],
      "execution_count": null,
      "outputs": []
    },
    {
      "cell_type": "code",
      "metadata": {
        "colab": {
          "base_uri": "https://localhost:8080/"
        },
        "id": "m9Yj5jn-gof1",
        "outputId": "a48f2936-6009-41c0-a19e-4842b2da92f8"
      },
      "source": [
        "to1 = Tokenizer(num_words=voc_size)\n",
        "to1.fit_on_texts(t1)\n",
        "\n",
        "wordToSequenceTrain=to1.texts_to_sequences(t1)\n",
        "print(wordToSequenceTrain[2])\n",
        "padSequenceTrain=pad_sequences(wordToSequenceTrain,padding='post',truncating='post',maxlen=maxSentenceLength)\n",
        "\n",
        "\n",
        "wordToSequenceVal=to1.texts_to_sequences(t2)\n",
        "padSequenceVal=pad_sequences(wordToSequenceVal,padding='post',truncating='post',maxlen=maxSentenceLength)\n",
        "\n",
        "wordToSequenceTest=to1.texts_to_sequences(t3)\n",
        "padSequenceTest=pad_sequences(wordToSequenceTest,padding='post',truncating='post',maxlen=maxSentenceLength)\n"
      ],
      "execution_count": null,
      "outputs": [
        {
          "output_type": "stream",
          "text": [
            "[138, 7346, 88, 58, 6, 51, 24, 16, 11, 68, 124, 158, 303, 14, 248, 97, 764, 97, 2, 58, 6]\n"
          ],
          "name": "stdout"
        }
      ]
    },
    {
      "cell_type": "code",
      "metadata": {
        "colab": {
          "base_uri": "https://localhost:8080/"
        },
        "id": "0QuXMDekhejm",
        "outputId": "bda90ba9-ffb5-4487-e33d-ffe08cf61a71"
      },
      "source": [
        "from sklearn.preprocessing import LabelEncoder\n",
        "from tensorflow.keras.utils import to_categorical\n",
        "import numpy as np\n",
        "\n",
        "l1 = np.array(l1)\n",
        "l2 = np.array(l2)\n",
        "l3 = np.array(l3)\n",
        "\n",
        "lable = LabelEncoder()\n",
        "Label_train = lable.fit_transform(l1)\n",
        "print(Label_train.shape)\n",
        "y1 = to_categorical(Label_train,num_classes=3)\n",
        "\n",
        "lable = LabelEncoder()\n",
        "Label_val = lable.fit_transform(l2)\n",
        "print(Label_val.shape)\n",
        "y2 = to_categorical(Label_val,num_classes=3)\n",
        "\n",
        "lable = LabelEncoder()\n",
        "Label_test = lable.fit_transform(l3)\n",
        "print(Label_test.shape)\n",
        "y3 = to_categorical(Label_test,num_classes=3)"
      ],
      "execution_count": null,
      "outputs": [
        {
          "output_type": "stream",
          "text": [
            "(16658,)\n",
            "(3654,)\n",
            "(2993,)\n"
          ],
          "name": "stdout"
        }
      ]
    },
    {
      "cell_type": "code",
      "metadata": {
        "colab": {
          "base_uri": "https://localhost:8080/"
        },
        "id": "PiFw8b6ZiSMm",
        "outputId": "8c5f2e2d-7186-42be-e513-2c57c1e4cadb"
      },
      "source": [
        "x_train=np.array(padSequenceTrain)\n",
        "y_train = np.array(y1)\n",
        "\n",
        "x_val=np.array(padSequenceVal)\n",
        "y_val = np.array(y2)\n",
        "\n",
        "x_test=np.array(padSequenceTest)\n",
        "y_test = np.array(y3)\n",
        "\n",
        "print(x_train.shape)\n",
        "print(y_train.shape)\n",
        "print(x_val.shape)\n",
        "print(y_val.shape)\n",
        "print(x_test.shape)\n",
        "print(y_test.shape)\n",
        "print(x_train[1])\n",
        "print(y_train[1])"
      ],
      "execution_count": null,
      "outputs": [
        {
          "output_type": "stream",
          "text": [
            "(16658, 416)\n",
            "(16658, 3)\n",
            "(3654, 416)\n",
            "(3654, 3)\n",
            "(2993, 416)\n",
            "(2993, 3)\n",
            "[15421   935   446  3763   290   640   346   390  1794    25   471    57\n",
            " 15422   197   186   198   346   390   640     0     0     0     0     0\n",
            "     0     0     0     0     0     0     0     0     0     0     0     0\n",
            "     0     0     0     0     0     0     0     0     0     0     0     0\n",
            "     0     0     0     0     0     0     0     0     0     0     0     0\n",
            "     0     0     0     0     0     0     0     0     0     0     0     0\n",
            "     0     0     0     0     0     0     0     0     0     0     0     0\n",
            "     0     0     0     0     0     0     0     0     0     0     0     0\n",
            "     0     0     0     0     0     0     0     0     0     0     0     0\n",
            "     0     0     0     0     0     0     0     0     0     0     0     0\n",
            "     0     0     0     0     0     0     0     0     0     0     0     0\n",
            "     0     0     0     0     0     0     0     0     0     0     0     0\n",
            "     0     0     0     0     0     0     0     0     0     0     0     0\n",
            "     0     0     0     0     0     0     0     0     0     0     0     0\n",
            "     0     0     0     0     0     0     0     0     0     0     0     0\n",
            "     0     0     0     0     0     0     0     0     0     0     0     0\n",
            "     0     0     0     0     0     0     0     0     0     0     0     0\n",
            "     0     0     0     0     0     0     0     0     0     0     0     0\n",
            "     0     0     0     0     0     0     0     0     0     0     0     0\n",
            "     0     0     0     0     0     0     0     0     0     0     0     0\n",
            "     0     0     0     0     0     0     0     0     0     0     0     0\n",
            "     0     0     0     0     0     0     0     0     0     0     0     0\n",
            "     0     0     0     0     0     0     0     0     0     0     0     0\n",
            "     0     0     0     0     0     0     0     0     0     0     0     0\n",
            "     0     0     0     0     0     0     0     0     0     0     0     0\n",
            "     0     0     0     0     0     0     0     0     0     0     0     0\n",
            "     0     0     0     0     0     0     0     0     0     0     0     0\n",
            "     0     0     0     0     0     0     0     0     0     0     0     0\n",
            "     0     0     0     0     0     0     0     0     0     0     0     0\n",
            "     0     0     0     0     0     0     0     0     0     0     0     0\n",
            "     0     0     0     0     0     0     0     0     0     0     0     0\n",
            "     0     0     0     0     0     0     0     0     0     0     0     0\n",
            "     0     0     0     0     0     0     0     0     0     0     0     0\n",
            "     0     0     0     0     0     0     0     0     0     0     0     0\n",
            "     0     0     0     0     0     0     0     0]\n",
            "[0. 1. 0.]\n"
          ],
          "name": "stdout"
        }
      ]
    },
    {
      "cell_type": "code",
      "metadata": {
        "colab": {
          "base_uri": "https://localhost:8080/"
        },
        "id": "78-mh_HpjNL-",
        "outputId": "3f078b43-3e60-4600-d9a6-ab855d140df8"
      },
      "source": [
        "embedding_vector_features=50\n",
        "model=Sequential()\n",
        "model.add(Embedding(voc_size,embedding_vector_features, mask_zero=True,trainable=True))\n",
        "model.add(SpatialDropout1D(0.3))\n",
        "model.add(LSTM(64,dropout=0.7, recurrent_dropout=0.7))\n",
        "model.add(Dense(512,activation='relu'))\n",
        "model.add(Dense(3,activation='softmax'))\n",
        "#opt = SGD(lr=0.0001)\n",
        "opt = Adam(lr = 0.0001)\n",
        "model.compile(optimizer=opt,loss='categorical_crossentropy',metrics=['accuracy'])\n",
        "print(model.summary())"
      ],
      "execution_count": null,
      "outputs": [
        {
          "output_type": "stream",
          "text": [
            "WARNING:tensorflow:Layer lstm will not use cuDNN kernel since it doesn't meet the cuDNN kernel criteria. It will use generic GPU kernel as fallback when running on GPU\n",
            "Model: \"sequential_1\"\n",
            "_________________________________________________________________\n",
            "Layer (type)                 Output Shape              Param #   \n",
            "=================================================================\n",
            "embedding (Embedding)        (None, None, 50)          2075450   \n",
            "_________________________________________________________________\n",
            "spatial_dropout1d (SpatialDr (None, None, 50)          0         \n",
            "_________________________________________________________________\n",
            "lstm (LSTM)                  (None, 64)                29440     \n",
            "_________________________________________________________________\n",
            "dense (Dense)                (None, 512)               33280     \n",
            "_________________________________________________________________\n",
            "dense_1 (Dense)              (None, 3)                 1539      \n",
            "=================================================================\n",
            "Total params: 2,139,709\n",
            "Trainable params: 2,139,709\n",
            "Non-trainable params: 0\n",
            "_________________________________________________________________\n",
            "None\n"
          ],
          "name": "stdout"
        }
      ]
    },
    {
      "cell_type": "code",
      "metadata": {
        "colab": {
          "base_uri": "https://localhost:8080/",
          "height": 644
        },
        "id": "qEAfDtApVjUG",
        "outputId": "b5c54a5a-cc69-4ae8-937e-13eed7dd9281"
      },
      "source": [
        "from keras.utils.vis_utils import plot_model\n",
        "plot_model(model, to_file='model_plot.png', show_shapes=True, show_layer_names=True)"
      ],
      "execution_count": null,
      "outputs": [
        {
          "output_type": "execute_result",
          "data": {
            "image/png": "[encoded data removed]",
            "text/plain": [
              "<IPython.core.display.Image object>"
            ]
          },
          "metadata": {
            "tags": []
          },
          "execution_count": 38
        }
      ]
    },
    {
      "cell_type": "code",
      "metadata": {
        "colab": {
          "base_uri": "https://localhost:8080/"
        },
        "id": "2_KEEFeMjRJl",
        "outputId": "2b859b98-b6f1-406a-9c39-b23e90755570"
      },
      "source": [
        "history=model.fit(x_train,y_train,validation_data=(x_val,y_val),epochs=15,batch_size=128)\n",
        "model.save('/content/rnn_model.h5')\n",
        "model.save_weights('/content/rnn_weight.h5')"
      ],
      "execution_count": null,
      "outputs": [
        {
          "output_type": "stream",
          "text": [
            "Epoch 1/15\n",
            "131/131 [==============================] - 312s 2s/step - loss: 1.0950 - accuracy: 0.3888 - val_loss: 1.0872 - val_accuracy: 0.3959\n",
            "Epoch 2/15\n",
            "131/131 [==============================] - 304s 2s/step - loss: 1.0850 - accuracy: 0.3939 - val_loss: 1.0344 - val_accuracy: 0.4422\n",
            "Epoch 3/15\n",
            "131/131 [==============================] - 303s 2s/step - loss: 1.0062 - accuracy: 0.4847 - val_loss: 0.9301 - val_accuracy: 0.5605\n",
            "Epoch 4/15\n",
            "131/131 [==============================] - 300s 2s/step - loss: 0.9377 - accuracy: 0.5419 - val_loss: 0.8989 - val_accuracy: 0.5748\n",
            "Epoch 5/15\n",
            "131/131 [==============================] - 297s 2s/step - loss: 0.9013 - accuracy: 0.5596 - val_loss: 0.8807 - val_accuracy: 0.5791\n",
            "Epoch 6/15\n",
            "131/131 [==============================] - 297s 2s/step - loss: 0.8885 - accuracy: 0.5689 - val_loss: 0.8674 - val_accuracy: 0.5915\n",
            "Epoch 7/15\n",
            "131/131 [==============================] - 296s 2s/step - loss: 0.8541 - accuracy: 0.5982 - val_loss: 0.8583 - val_accuracy: 0.5939\n",
            "Epoch 8/15\n",
            "131/131 [==============================] - 299s 2s/step - loss: 0.8240 - accuracy: 0.6242 - val_loss: 0.8521 - val_accuracy: 0.5991\n",
            "Epoch 9/15\n",
            "131/131 [==============================] - 299s 2s/step - loss: 0.8034 - accuracy: 0.6338 - val_loss: 0.8469 - val_accuracy: 0.6041\n",
            "Epoch 10/15\n",
            "131/131 [==============================] - 298s 2s/step - loss: 0.7858 - accuracy: 0.6485 - val_loss: 0.8444 - val_accuracy: 0.6095\n",
            "Epoch 11/15\n",
            "131/131 [==============================] - 305s 2s/step - loss: 0.7661 - accuracy: 0.6632 - val_loss: 0.8433 - val_accuracy: 0.6068\n",
            "Epoch 12/15\n",
            "131/131 [==============================] - 306s 2s/step - loss: 0.7428 - accuracy: 0.6753 - val_loss: 0.8420 - val_accuracy: 0.6142\n",
            "Epoch 13/15\n",
            "131/131 [==============================] - 307s 2s/step - loss: 0.7244 - accuracy: 0.6814 - val_loss: 0.8461 - val_accuracy: 0.6147\n",
            "Epoch 14/15\n",
            "131/131 [==============================] - 308s 2s/step - loss: 0.7063 - accuracy: 0.6972 - val_loss: 0.8469 - val_accuracy: 0.6169\n",
            "Epoch 15/15\n",
            "131/131 [==============================] - 310s 2s/step - loss: 0.6866 - accuracy: 0.7081 - val_loss: 0.8555 - val_accuracy: 0.6161\n"
          ],
          "name": "stdout"
        }
      ]
    },
    {
      "cell_type": "code",
      "metadata": {
        "colab": {
          "base_uri": "https://localhost:8080/",
          "height": 1000
        },
        "id": "XNzYeFHvzHOf",
        "outputId": "ff3b8ccf-f9b8-4694-b09f-2ee89fbfcc9c"
      },
      "source": [
        "import matplotlib.pyplot as plt\n",
        "\n",
        "plt.plot(history.history['accuracy'])\n",
        "plt.plot(history.history['val_accuracy'])\n",
        "plt.title('model accuracy')\n",
        "plt.ylabel('accuracy')\n",
        "plt.xlabel('epoch')\n",
        "plt.legend(['train','test'],loc = 'upper_left')\n",
        "plt.show()\n",
        "\n",
        "plt.plot(history.history['loss'])\n",
        "plt.plot(history.history['val_loss'])\n",
        "plt.title('model loss')\n",
        "plt.ylabel('loss')\n",
        "plt.xlabel('epoch')\n",
        "plt.legend(['train','test'],loc = 'upper_left')"
      ],
      "execution_count": null,
      "outputs": [
        {
          "output_type": "stream",
          "text": [
            "/usr/local/lib/python3.7/dist-packages/ipykernel_launcher.py:8: MatplotlibDeprecationWarning: Unrecognized location 'upper_left'. Falling back on 'best'; valid locations are\n",
            "\tbest\n",
            "\tupper right\n",
            "\tupper left\n",
            "\tlower left\n",
            "\tlower right\n",
            "\tright\n",
            "\tcenter left\n",
            "\tcenter right\n",
            "\tlower center\n",
            "\tupper center\n",
            "\tcenter\n",
            "This will raise an exception in 3.3.\n",
            "  \n"
          ],
          "name": "stderr"
        },
        {
          "output_type": "display_data",
          "data": {
            "image/png": "[encoded data removed]",
            "text/plain": [
              "<Figure size 432x288 with 1 Axes>"
            ]
          },
          "metadata": {
            "tags": [],
            "needs_background": "light"
          }
        },
        {
          "output_type": "stream",
          "text": [
            "/usr/local/lib/python3.7/dist-packages/ipykernel_launcher.py:16: MatplotlibDeprecationWarning: Unrecognized location 'upper_left'. Falling back on 'best'; valid locations are\n",
            "\tbest\n",
            "\tupper right\n",
            "\tupper left\n",
            "\tlower left\n",
            "\tlower right\n",
            "\tright\n",
            "\tcenter left\n",
            "\tcenter right\n",
            "\tlower center\n",
            "\tupper center\n",
            "\tcenter\n",
            "This will raise an exception in 3.3.\n",
            "  app.launch_new_instance()\n"
          ],
          "name": "stderr"
        },
        {
          "output_type": "execute_result",
          "data": {
            "text/plain": [
              "<matplotlib.legend.Legend at 0x7fbc3d036390>"
            ]
          },
          "metadata": {
            "tags": []
          },
          "execution_count": 80
        },
        {
          "output_type": "display_data",
          "data": {
            "image/png": "[encoded data removed]",
            "text/plain": [
              "<Figure size 432x288 with 1 Axes>"
            ]
          },
          "metadata": {
            "tags": [],
            "needs_background": "light"
          }
        }
      ]
    },
    {
      "cell_type": "code",
      "metadata": {
        "id": "O8QENNoGzST9"
      },
      "source": [
        "def plot_confusion_matrix(cm, classes, normalize=True, title='Confusion matrix', cmap=plt.cm.Blues):\n",
        "\n",
        "    plt.figure(figsize=(10,10))\n",
        "    plt.imshow(cm, interpolation='nearest', cmap=cmap)\n",
        "    plt.title(title)\n",
        "    plt.colorbar()\n",
        "\n",
        "    tick_marks = np.arange(len(classes))\n",
        "    plt.xticks(tick_marks, classes, rotation=45)\n",
        "    plt.yticks(tick_marks, classes)\n",
        "\n",
        "    if normalize:\n",
        "        cm = cm.astype('float') / cm.sum(axis=1)[:, np.newaxis]\n",
        "        cm = np.around(cm, decimals=2)\n",
        "        cm[np.isnan(cm)] = 0.0\n",
        "        print(\"Normalized confusion matrix\")\n",
        "    else:\n",
        "        print('Confusion matrix, without normalization')\n",
        "    thresh = cm.max() / 2.\n",
        "    for i, j in itertools.product(range(cm.shape[0]), range(cm.shape[1])):\n",
        "        plt.text(j, i, cm[i, j],\n",
        "                 horizontalalignment=\"center\",\n",
        "                 color=\"white\" if cm[i, j] > thresh else \"black\")\n",
        "    plt.tight_layout()\n",
        "    plt.ylabel('True label')\n",
        "    plt.xlabel('Predicted label')"
      ],
      "execution_count": null,
      "outputs": []
    },
    {
      "cell_type": "code",
      "metadata": {
        "colab": {
          "base_uri": "https://localhost:8080/"
        },
        "id": "rn6sPumMzYx1",
        "outputId": "21d8506e-ec19-48ec-ca0d-3145e4e04c67"
      },
      "source": [
        "from keras.models import load_model\n",
        "\n",
        "# load model\n",
        "model = load_model('/content/rnn_model.h5')\n",
        "\n",
        "score = model.evaluate(padSequenceTest,y3, verbose=0)\n",
        "print(\"%s: %.2f%%\" % (model.metrics_names[1], score[1]*100))"
      ],
      "execution_count": null,
      "outputs": [
        {
          "output_type": "stream",
          "text": [
            "WARNING:tensorflow:Layer lstm will not use cuDNN kernel since it doesn't meet the cuDNN kernel criteria. It will use generic GPU kernel as fallback when running on GPU\n",
            "accuracy: 66.25%\n"
          ],
          "name": "stdout"
        }
      ]
    },
    {
      "cell_type": "code",
      "metadata": {
        "colab": {
          "base_uri": "https://localhost:8080/"
        },
        "id": "kCI5Yw32zc-K",
        "outputId": "2bdbcd28-6c6c-49d9-8334-025647eee3fb"
      },
      "source": [
        "from sklearn.metrics import classification_report, confusion_matrix\n",
        "Y_pred = model.predict(x_test)\n",
        "y_pred = np.argmax(Y_pred, axis=1)\n",
        "ytest=np.argmax(y3,axis=1)\n",
        "print('Confusion Matrix')\n",
        "cm=confusion_matrix(ytest, y_pred)\n",
        "print(confusion_matrix(ytest, y_pred))"
      ],
      "execution_count": null,
      "outputs": [
        {
          "output_type": "stream",
          "text": [
            "Confusion Matrix\n",
            "[[576 303  21]\n",
            " [204 690 202]\n",
            " [ 20 260 717]]\n"
          ],
          "name": "stdout"
        }
      ]
    },
    {
      "cell_type": "code",
      "metadata": {
        "colab": {
          "base_uri": "https://localhost:8080/"
        },
        "id": "y_GZyJaJzhxP",
        "outputId": "e3af1a64-6c46-410c-9fe7-4540ad9e68ac"
      },
      "source": [
        "target_names = ['neutral','negative','positive']\n",
        "print(classification_report(ytest, y_pred, target_names=target_names))"
      ],
      "execution_count": null,
      "outputs": [
        {
          "output_type": "stream",
          "text": [
            "              precision    recall  f1-score   support\n",
            "\n",
            "     neutral       0.72      0.64      0.68       900\n",
            "    negative       0.55      0.63      0.59      1096\n",
            "    positive       0.76      0.72      0.74       997\n",
            "\n",
            "    accuracy                           0.66      2993\n",
            "   macro avg       0.68      0.66      0.67      2993\n",
            "weighted avg       0.67      0.66      0.67      2993\n",
            "\n"
          ],
          "name": "stdout"
        }
      ]
    },
    {
      "cell_type": "code",
      "metadata": {
        "colab": {
          "base_uri": "https://localhost:8080/",
          "height": 746
        },
        "id": "oEU6nLp_zxpa",
        "outputId": "91ede61d-65a4-47ce-a384-7471cace21bd"
      },
      "source": [
        "import itertools\n",
        "plot_confusion_matrix(cm, target_names, title='Confusion Matrix')"
      ],
      "execution_count": null,
      "outputs": [
        {
          "output_type": "stream",
          "text": [
            "Normalized confusion matrix\n"
          ],
          "name": "stdout"
        },
        {
          "output_type": "display_data",
          "data": {
            "image/png": "[encoded data removed]",
            "text/plain": [
              "<Figure size 720x720 with 2 Axes>"
            ]
          },
          "metadata": {
            "tags": [],
            "needs_background": "light"
          }
        }
      ]
    },
    {
      "cell_type": "markdown",
      "metadata": {
        "id": "7rJfFTyj-yLO"
      },
      "source": [
        "# Semval results\n",
        "\n",
        "https://arxiv.org/pdf/2008.04277.pdf"
      ]
    },
    {
      "cell_type": "markdown",
      "metadata": {
        "id": "C3IN4FajkoIw"
      },
      "source": [
        "# New Section"
      ]
    },
    {
      "cell_type": "code",
      "metadata": {
        "id": "PaBvqff4kk8C"
      },
      "source": [
        ""
      ],
      "execution_count": null,
      "outputs": []
    },
    {
      "cell_type": "code",
      "metadata": {
        "id": "cGypgPza-0TJ"
      },
      "source": [
        ""
      ],
      "execution_count": null,
      "outputs": []
    }
  ]
}